{
  "nbformat": 4,
  "nbformat_minor": 0,
  "metadata": {
    "colab": {
      "name": "Copy of W241 Final Project Analysis V3_OFFICIAL",
      "provenance": [],
      "collapsed_sections": [],
      "toc_visible": true
    },
    "kernelspec": {
      "display_name": "R",
      "name": "ir"
    },
    "language_info": {
      "name": "R"
    }
  },
  "cells": [
    {
      "cell_type": "markdown",
      "metadata": {
        "id": "tyoG3_KIVu6z"
      },
      "source": [
        "\n",
        "<h1 align = \"center\"> Plus Size Marketing and Purchase Intent  </h1>\n",
        "<h2 align = \"center\"><em> Haley Farber, Brandon Scolieri, Candice Sener, Anjali Unnithan, Derrick Xiong</em></h2> \n",
        "<h4 align = \"center\"> W241: Experiments and Causality </h4>\n",
        "<h4 align = \"center\"> April, Spring 2021 </h4> "
      ]
    },
    {
      "cell_type": "markdown",
      "metadata": {
        "id": "6CcKpc4amWFc"
      },
      "source": [
        "# Abstract\n",
        "\n",
        "\n",
        "The modeling industry has experienced tremendous changes within the past decade regarding more diverse representations of models based on gender, race, and body type. Our goal of this project was to determine if the inclusion and increased visibility of plus-size models would cause women to be more likely to purchase clothing. Essentially, does the exposure of plus-size models in certain clothing garments increase or decrease purchase intent of those clothing garments on average? \n",
        "\n",
        "To help solve this question, we created a survey in which each participant was shown twenty images of models wearing particular garments and asked to rate their likeliness of purchasing the advertised item. We administered two versions of a survey on Mechanical Turk, one with plus-size models and one with model sizes most represented in the modeling industry (i.e. US womens’ sizes 0-4). We were interested in determining whether or not someone would give a different purchase intent score when viewing a model that resembled the average size of a female U.S. shopper versus viewing a model that resembled the average size of a female U.S. model, which is a U.S. women’s size 0-4. \n",
        "\n",
        "As part of our experimentation we also investigated whether different levels of self-esteem have an impact on purchase intent. As is elaborated on in our results section, we found no significant difference in average purchase intent between the treatment and control groups overall. However, we did discover some differences between the control and treatment group’s responses as it relates to self-esteem, but no statistically significant results or differences across various body sizes. \n"
      ]
    },
    {
      "cell_type": "markdown",
      "metadata": {
        "id": "1Slo66ICTIjN"
      },
      "source": [
        "# Imports"
      ]
    },
    {
      "cell_type": "code",
      "metadata": {
        "colab": {
          "base_uri": "https://localhost:8080/",
          "height": 1000
        },
        "id": "PgbpGrlOamHh",
        "outputId": "9d191d06-6a6f-47c9-d704-4891065741da"
      },
      "source": [
        "######################\n",
        "# INSTALLS & IMPORTS #\n",
        "######################\n",
        "\n",
        "install.packages(\"tidyverse\", repos = \"http://cran.rstudio.com/\")\n",
        "install.packages('data.table', repos = \"http://cran.rstudio.com/\") \n",
        "install.packages(\"matrixStats\", repos = \"http://cran.rstudio.com/\")\n",
        "install.packages(\"vtable\",repos = \"http://cran.rstudio.com/\") \n",
        "install.packages(\"sandwich\",repos = \"http://cran.rstudio.com/\") \n",
        "install.packages(\"lmtest\",repos = \"http://cran.rstudio.com/\")  \n",
        "install.packages(\"stargazer\",repos = \"http://cran.rstudio.com/\") \n",
        "install.packages(\"pwr\",repos = \"http://cran.rstudio.com/\")\n",
        "install.packages(\"vcd\",repos = \"http://cran.rstudio.com/\")\n",
        "\n",
        "library(tidyverse)\n",
        "library(data.table)\n",
        "library(matrixStats)\n",
        "library(vtable)\n",
        "library(sandwich)\n",
        "library(lmtest)\n",
        "library(stargazer)\n",
        "library(pwr)\n",
        "library(vcd)"
      ],
      "execution_count": null,
      "outputs": [
        {
          "output_type": "stream",
          "text": [
            "Installing package into ‘/usr/local/lib/R/site-library’\n",
            "(as ‘lib’ is unspecified)\n",
            "\n",
            "also installing the dependencies ‘data.table’, ‘gargle’, ‘ids’, ‘dbplyr’, ‘dtplyr’, ‘googledrive’, ‘googlesheets4’, ‘pillar’\n",
            "\n",
            "\n",
            "Installing package into ‘/usr/local/lib/R/site-library’\n",
            "(as ‘lib’ is unspecified)\n",
            "\n",
            "Installing package into ‘/usr/local/lib/R/site-library’\n",
            "(as ‘lib’ is unspecified)\n",
            "\n",
            "Installing package into ‘/usr/local/lib/R/site-library’\n",
            "(as ‘lib’ is unspecified)\n",
            "\n",
            "also installing the dependencies ‘webshot’, ‘insight’, ‘kableExtra’, ‘sjlabelled’\n",
            "\n",
            "\n",
            "Installing package into ‘/usr/local/lib/R/site-library’\n",
            "(as ‘lib’ is unspecified)\n",
            "\n",
            "also installing the dependency ‘zoo’\n",
            "\n",
            "\n",
            "Installing package into ‘/usr/local/lib/R/site-library’\n",
            "(as ‘lib’ is unspecified)\n",
            "\n",
            "Installing package into ‘/usr/local/lib/R/site-library’\n",
            "(as ‘lib’ is unspecified)\n",
            "\n",
            "Installing package into ‘/usr/local/lib/R/site-library’\n",
            "(as ‘lib’ is unspecified)\n",
            "\n",
            "Installing package into ‘/usr/local/lib/R/site-library’\n",
            "(as ‘lib’ is unspecified)\n",
            "\n",
            "Warning message in system(\"timedatectl\", intern = TRUE):\n",
            "“running command 'timedatectl' had status 1”\n"
          ],
          "name": "stderr"
        },
        {
          "output_type": "error",
          "ename": "ERROR",
          "evalue": "ignored",
          "traceback": [
            "Error: package or namespace load failed for ‘tidyverse’ in loadNamespace(j <- i[[1L]], c(lib.loc, .libPaths()), versionCheck = vI[[j]]):\n namespace ‘pillar’ 1.5.1 is already loaded, but >= 1.6.0 is required\nTraceback:\n",
            "1. library(tidyverse)",
            "2. tryCatch({\n .     attr(package, \"LibPath\") <- which.lib.loc\n .     ns <- loadNamespace(package, lib.loc)\n .     env <- attachNamespace(ns, pos = pos, deps, exclude, include.only)\n . }, error = function(e) {\n .     P <- if (!is.null(cc <- conditionCall(e))) \n .         paste(\" in\", deparse(cc)[1L])\n .     else \"\"\n .     msg <- gettextf(\"package or namespace load failed for %s%s:\\n %s\", \n .         sQuote(package), P, conditionMessage(e))\n .     if (logical.return) \n .         message(paste(\"Error:\", msg), domain = NA)\n .     else stop(msg, call. = FALSE, domain = NA)\n . })",
            "3. tryCatchList(expr, classes, parentenv, handlers)",
            "4. tryCatchOne(expr, names, parentenv, handlers[[1L]])",
            "5. value[[3L]](cond)",
            "6. stop(msg, call. = FALSE, domain = NA)"
          ]
        }
      ]
    },
    {
      "cell_type": "markdown",
      "metadata": {
        "id": "2PqgcCKdTS34"
      },
      "source": [
        "# Data"
      ]
    },
    {
      "cell_type": "code",
      "metadata": {
        "colab": {
          "base_uri": "https://localhost:8080/"
        },
        "id": "A9vACH61bKEd",
        "outputId": "c0c60775-152c-4fac-f301-729ae29371ba"
      },
      "source": [
        "############\n",
        "# RAW DATA #\n",
        "############\n",
        "\n",
        "survey_data = read_csv(\"./sample_data/W241_final_dataset.csv\")\n",
        "# survey_data = read_csv(\"./sample_data/w241_frozen_final_dataset.csv\")\n",
        "\n",
        "# Converting data into a data table object\n",
        "df <- data.table(survey_data)\n"
      ],
      "execution_count": null,
      "outputs": [
        {
          "output_type": "stream",
          "text": [
            "\n",
            "\u001b[36m──\u001b[39m \u001b[1m\u001b[1mColumn specification\u001b[1m\u001b[22m \u001b[36m────────────────────────────────────────────────────────\u001b[39m\n",
            "cols(\n",
            "  .default = col_double(),\n",
            "  StartDate = \u001b[31mcol_character()\u001b[39m,\n",
            "  EndDate = \u001b[31mcol_character()\u001b[39m,\n",
            "  Status = \u001b[31mcol_character()\u001b[39m,\n",
            "  IPAddress = \u001b[31mcol_character()\u001b[39m,\n",
            "  Finished = \u001b[33mcol_logical()\u001b[39m,\n",
            "  RecordedDate = \u001b[31mcol_character()\u001b[39m,\n",
            "  ResponseId = \u001b[31mcol_character()\u001b[39m,\n",
            "  DistributionChannel = \u001b[31mcol_character()\u001b[39m,\n",
            "  UserLanguage = \u001b[31mcol_character()\u001b[39m,\n",
            "  age = \u001b[31mcol_character()\u001b[39m,\n",
            "  race = \u001b[31mcol_character()\u001b[39m,\n",
            "  self_esteem_rate = \u001b[31mcol_character()\u001b[39m,\n",
            "  shopping_style = \u001b[31mcol_character()\u001b[39m,\n",
            "  shop_online = \u001b[31mcol_character()\u001b[39m,\n",
            "  shopping_preferences = \u001b[31mcol_character()\u001b[39m,\n",
            "  size_free_response = \u001b[31mcol_character()\u001b[39m,\n",
            "  shopping_explore_time = \u001b[31mcol_character()\u001b[39m,\n",
            "  shopping_montly_amount = \u001b[31mcol_character()\u001b[39m,\n",
            "  shopping_exp_description = \u001b[31mcol_character()\u001b[39m,\n",
            "  size_bucket = \u001b[31mcol_character()\u001b[39m\n",
            "  # ... with 42 more columns\n",
            ")\n",
            "\u001b[36mℹ\u001b[39m Use \u001b[30m\u001b[47m\u001b[30m\u001b[47m`spec()`\u001b[47m\u001b[30m\u001b[49m\u001b[39m for the full column specifications.\n",
            "\n",
            "\n"
          ],
          "name": "stderr"
        }
      ]
    },
    {
      "cell_type": "code",
      "metadata": {
        "id": "f2cJ10b1Tn7O"
      },
      "source": [
        "##############\n",
        "# INSPECTION #\n",
        "##############\n",
        "\n",
        "# spec(survey_data)\n",
        "#class(df)"
      ],
      "execution_count": null,
      "outputs": []
    },
    {
      "cell_type": "markdown",
      "metadata": {
        "id": "r1AhY6AFTfyB"
      },
      "source": [
        "# Helper Functions"
      ]
    },
    {
      "cell_type": "code",
      "metadata": {
        "id": "fH8ZVrbsI053"
      },
      "source": [
        "####################\n",
        "# HELPER FUNCTIONS #\n",
        "####################\n",
        "\n",
        "to_categorical <- function(column) {\n",
        "  #' This function converts likert scale questions to integers of respective value.\n",
        "  factors <- as.numeric(factor(column,\n",
        "                  # specifify the levels in the correct order:\n",
        "                  levels=c(\"Extremely unlikely\", \"Somewhat unlikely\", \"Neither likely nor unlikely\", \"Somewhat likely\", \"Extremely likely\")))\n",
        "                  \n",
        "  return(factors)\n",
        "}\n",
        "\n",
        "\n",
        "drop_columns <- function(df) {\n",
        "  #` This function drops the columns specified within the function from a specified df.\n",
        "  return (\n",
        "    subset(\n",
        "      df,\n",
        "      select = -c(Progress, `Duration (in seconds)`, Status, IPAddress, Finished, StartDate, EndDate, RecordedDate, LocationLatitude, LocationLongitude, DistributionChannel, UserLanguage)\n",
        "    ))\n",
        "}\n",
        "\n",
        "\n",
        "map_to_condensed_variables <- function(dt) {\n",
        "  #condense race variable \n",
        "  dt[!race %in% c(\"White\",\"Asian\",\"Hispanic or Latino\",\"Black or African American\",\"American Indian or Alaska Native\"),race:= \"Mixed/Other\"]\n",
        "\n",
        "  #condense size bucket \n",
        "  dt[size_bucket %in% c(\"18-24\",\"26+\"),size_bucket := \"18+\"]\n",
        "\n",
        "  #condense size bucket further, via condensing to either, above, below, or at the mode of the size bucket responses.\n",
        "  dt[,size_bucket_condensed := fcase(\n",
        "                          size_bucket == \"0-4\", \"Below Modal Size\",\n",
        "                          size_bucket == \"6-10\", \"Modal Size\",\n",
        "                          size_bucket %in% c(\"12-16\",\"18+\"), \"Above Modal Size\"\n",
        "                          )]\n",
        "\n",
        "  #condense size bucket even further to a binary variable, via condensing to either, above or below the mode of the size bucket responses.\n",
        "  dt[,size_bucket_condensed_binary := fcase(\n",
        "                            size_bucket %in% c(\"0-4\",\"6-10\"), \"Modal and Below Modal Size\",\n",
        "                            size_bucket %in% c(\"12-16\",\"18+\"), \"Above Modal Size\"\n",
        "                            )]\n",
        "\n",
        "  #condense self esteem rate questions \n",
        "  dt[,self_esteem_rate := fcase(\n",
        "                          self_esteem_rate %in% c(\"Somewhat high\",\"Very high\"), \"High\",\n",
        "                          self_esteem_rate %in% c(\"Somewhat low\",\"Very low\"), \"Low\",\n",
        "                          self_esteem_rate == \"Neutral\", \"Neutral\"\n",
        "                          )]\n",
        "\n",
        "  #condense shopping style questions \n",
        "  dt[,shopping_style:= fcase(\n",
        "                        shopping_style == \"I shop once a month or less\",\"shop less than once per month\",\n",
        "                        shopping_style == \"I shop 2-4 times a month\", \"shop 2-4 times per month\",\n",
        "                        shopping_style %in% c(\"I shop 5-10 times a month\",\"I shop more than 10 times a month\"), \"shop 5+ times per month\"\n",
        "                        )]\n",
        "\n",
        "  #condense shop online questions \n",
        "  dt[,shop_online := fcase(\n",
        "                          shop_online %in% c(\"I only shop online\",\"I usually shop online\"), \"mostly online\",\n",
        "                          shop_online %in% c(\"I occasionally shop online\",\"I never shop online\"), \"mostly in person\",\n",
        "                          shop_online == \"It’s about equal, I shop online and in person\", \"about equal\"\n",
        "                          )]\n",
        "\n",
        "  #condense shopping_preferences \n",
        "  dt[,shopping_preferences := fcase(\n",
        "                          shopping_preferences %in% c(\"I know exactly what I need and spend little time browsing before making a purchase\",\n",
        "                          \"I don’t browse for pleasure\"), \"low browsing\",\n",
        "                          shopping_preferences == \"I browse until I find what I need and then make a purchase\", \"medium browsing\",\n",
        "                          shopping_preferences %in% c(\"I spend the majority of my time browsing before making a purchase\",\n",
        "                          \"I often browse products without making a purchase\"), \"high browsing\"\n",
        "                          )]\n",
        "                          \n",
        "  #condense shopping_exp_description\n",
        "  dt[,shopping_exp_description := fcase(\n",
        "                          shopping_exp_description %in% c(\"I am always satisfied by the fit of my garment\",\n",
        "                          \"I am usually satisfied by the fit of my garment\"), \"usually satisfied\",\n",
        "                          shopping_exp_description == \"Sometimes it fits, sometimes it doesn’t\", \"sometimes satisfied\",\n",
        "                          shopping_exp_description %in% c(\"I am always frustrated with the size of my garment\",\n",
        "                          \"I am usually frustrated with the size of my garment\"), \"usually frustrated\"\n",
        "                          )]\n",
        "\n",
        "  #condense size purchase confidence questions \n",
        "  dt[,size_purchase_confidence := fcase(\n",
        "                          size_purchase_confidence %in% c(\"I am certain, I always order the right size\",\"I am very confident, I usually order the right size\"), \"confident\",\n",
        "                          size_purchase_confidence == \"I’m not sure\", \"sometimes confident\",\n",
        "                          size_purchase_confidence %in% c(\"I have no confidence in the fit, I always need to order a different size after the first purchase\",\n",
        "                          \"I am not very confident, I often order the wrong size\"), \"not confident\"\n",
        "                          )]\n",
        "  return(dt)\n",
        "\n",
        "}\n",
        "\n",
        "\n",
        "riTest <- function(tbl, reps) {\n",
        "  riArray <- rep(NA, reps)\n",
        "  for (ri in 1:reps) {\n",
        "    riArray[ri] <- tbl[, .(mean_purchase_intent = mean(purchase_treat)),\n",
        "                       keyby = .(sample(treated))][, diff(mean_purchase_intent)]\n",
        "  }\n",
        "  return(riArray)\n",
        "}\n",
        "\n"
      ],
      "execution_count": null,
      "outputs": []
    },
    {
      "cell_type": "markdown",
      "metadata": {
        "id": "YSUMalRwYNNE"
      },
      "source": [
        "# Data Cleaning"
      ]
    },
    {
      "cell_type": "code",
      "metadata": {
        "id": "kmeTSzRmKbgV"
      },
      "source": [
        "############\n",
        "# CLEANING #\n",
        "############\n",
        "\n",
        "#Dropping Extraneous Columns\n",
        "master_df <- drop_columns(df)\n",
        "\n",
        "## Inspecting\n",
        "# head(master_df)\n",
        "# columnnames(master_df)"
      ],
      "execution_count": null,
      "outputs": []
    },
    {
      "cell_type": "markdown",
      "metadata": {
        "id": "i2OdZe0crQdT"
      },
      "source": [
        "# Transformations"
      ]
    },
    {
      "cell_type": "code",
      "metadata": {
        "id": "8eM-80Aavmm3"
      },
      "source": [
        "###########################\n",
        "# FEATURE TRANSFORMATIONS #\n",
        "###########################\n",
        "\n",
        "# In this cell we are subsetting the columns that will be transformed into our outcome variables.\n",
        "\n",
        "# Purchase Intent Outcome Vars\n",
        "t_purchase_columns <- c(\"t1\",\"t2\",\"t3\",\"t4\",\"t5\",\"t6\",\"t7\",\"t8\",\"t9\",\"t10\",\"t11\",\"t12\",\"t13\",\"t14\",\"t15\",\"t16\",\"t17\",\"t18\",\"t19\",\"t20\")\n",
        "c_purchase_columns <- c(\"c1\",\"c2\",\"c3\",\"c4\",\"c5\",\"c6\",\"c7\",\"c8\",\"c9\",\"c10\",\"c11\",\"c12\",\"c13\",\"c14\",\"c15\",\"c16\",\"c17\",\"c18\",\"c19\",\"c20\")\n",
        "all_purchases <- c(t_purchase_columns,c_purchase_columns)\n",
        "\n",
        "# Click Count Outcome Vars\n",
        "t_click_count_columns <- c(\"t1_click_count\",\"t2_click_count\",\"t3_click_count\",\"t4_click_count\",\"t5_click_count\",\"t6_click_count\",\"t7_click_count\",\"t8_click_count\",\"t9_click_count\",\"t10_click_count\",\"t11_click_count\",\"t12_click_count\",\"t13_click_count\",\"t14_click_count\",\"t15_click_count\",\"t16_click_count\",\"t17_click_count\",\"t18_click_count\",\"t19_click_count\",\"t20_click_count\")\n",
        "c_click_count_columns <- c(\"c1_click_count\",\"c2_click_count\",\"c3_click_count\",\"c4_click_count\",\"c5_click_count\",\"c6_click_count\",\"c7_click_count\",\"c8_click_count\",\"c9_click_count\",\"c10_click_count\",\"c11_click_count\",\"c12_click_count\",\"c13_click_count\",\"c14_click_count\",\"c15_click_count\",\"c16_click_count\",\"c17_click_count\",\"c18_click_count\",\"c19_click_count\",\"c20_click_count\")\n",
        "all_click_counts <- c(t_click_count_columns,c_click_count_columns)\n",
        "\n",
        "#Page Submit Outcome Vars\n",
        "t_page_submits <- c(\"t1_page_submit\",\"t2_page_submit\",\"t3_page_submit\",\"t4_page_submit\",\"t5_page_submit\",\"t6_page_submit\",\"t7_page_submit\",\n",
        "\"t8_page_submit\",\"t9_page_submit\",\"t10_page_submit\",\"t11_page_submit\",\"t12_page_submit\",\"t13_page_submit\",\"t14_page_submit\",\"t15_page_submit\",\n",
        "\"t16_page_submit\",\"t17_page_submit\",\"t18_page_submit\",\"t19_page_submit\",\"t20_page_submit\")\n",
        "c_page_submits <- c(\"c1_page_submit\",\"c2_page_submit\",\"c3_page_submit\",\"c4_page_submit\",\"c5_page_submit\",\"c6_page_submit\",\"c7_page_submit\",\n",
        "\"c8_page_submit\",\"c9_page_submit\",\"c10_page_submit\",\"c11_page_submit\",\"c12_page_submit\",\"c13_page_submit\",\"c14_page_submit\",\"c15_page_submit\",\n",
        "\"c16_page_submit\",\"c17_page_submit\",\"c18_page_submit\",\"c19_page_submit\",\"c20_page_submit\")\n",
        "all_page_submits <- c(t_page_submits,c_page_submits)\n",
        "\n",
        "\n",
        "#all_click_counts\n",
        "#all_purchases"
      ],
      "execution_count": null,
      "outputs": []
    },
    {
      "cell_type": "code",
      "metadata": {
        "id": "FvqS-X8Pks_I"
      },
      "source": [
        "###########################\n",
        "# FEATURE TRANSFORMATIONS #\n",
        "###########################\n",
        "\n",
        "# In this cell we are mapping likert scale values to integers, creating the treatment column, and computing aggregate statistics for our outcome variables.\n",
        "\n",
        "#Creating integers for likert purchasing questions\n",
        "master_df[, (all_purchases):= lapply(.SD, to_categorical),.SDcols = all_purchases]\n",
        "\n",
        "#Adding the treated column (treatment = 1, control = 0)\n",
        "master_df[,treated:= ifelse(is.na(c1), 1, 0)]\n",
        "\n",
        "#Computing the row means for the treatment questions (model photo questions)\n",
        "master_df[treated == 1, purchase_treat:= rowMeans(.SD), .SDcols = t_purchase_columns]\n",
        "master_df[treated == 0, purchase_treat:= rowMeans(.SD), .SDcols = c_purchase_columns]\n",
        "\n",
        "#Computing the row means for our secondary outcome measure (comparing click count averages between the treatment and control groups)\n",
        "master_df[treated == 1, click_count_mean:= rowMeans(.SD), .SDcols = t_click_count_columns]\n",
        "master_df[treated == 0, click_count_mean:= rowMeans(.SD), .SDcols = c_click_count_columns]\n",
        "\n",
        "#Computing the row medians for our secondary outcome measure (comparing page submit medians between the treatment and control groups)\n",
        "master_df[treated == 1, page_submit_treat:= rowMedians(as.matrix(.SD)), .SDcols = t_page_submits]\n",
        "master_df[treated == 0, page_submit_treat:= rowMedians(as.matrix(.SD)), .SDcols = c_page_submits]\n",
        "\n",
        "#Inspecting\n",
        "# head(master_df)"
      ],
      "execution_count": null,
      "outputs": []
    },
    {
      "cell_type": "markdown",
      "metadata": {
        "id": "0sI6d9FJn6wn"
      },
      "source": [
        "# Covariate Balance Inspection"
      ]
    },
    {
      "cell_type": "code",
      "metadata": {
        "colab": {
          "base_uri": "https://localhost:8080/",
          "height": 1000
        },
        "id": "t-SZSwHBa8hw",
        "outputId": "38b758a8-f467-4bd4-96f6-db6ce54f1b23"
      },
      "source": [
        "######################################\n",
        "# COVARIATE BALANCE CHECK (GRANULAR) #\n",
        "######################################\n",
        "\n",
        "#Clean the master data table by pulling only columns necessary for covariate balance check and regressions\n",
        "clean_dt <- master_df[,c(1:12,213:219)]\n",
        "\n",
        "#Create a table of covariates to simplify covariate balance check. Note: size free response is omitted - a separate analysis will be performed unless deleted.\n",
        "covariates_granular <- clean_dt[,c(2:7,9:14,16)]\n",
        "\n",
        "#Create Covariance Balance Table\n",
        "covariance_balance_table_granular <- sumtable(covariates_granular, group = \"treated\", group.test = TRUE, out = \"return\")\n",
        "\n",
        "covariance_balance_table_granular"
      ],
      "execution_count": null,
      "outputs": [
        {
          "output_type": "display_data",
          "data": {
            "text/plain": [
              "   Variable                                                                                             \n",
              "1  treated                                                                                              \n",
              "2  age                                                                                                  \n",
              "3  ... 18 -29 years                                                                                     \n",
              "4  ... 30-39 years                                                                                      \n",
              "5  ... 40-49 years                                                                                      \n",
              "6  ... 50-59 years                                                                                      \n",
              "7  ... 60+ years                                                                                        \n",
              "8  self_esteem_rate                                                                                     \n",
              "9  ... Neutral                                                                                          \n",
              "10 ... Somewhat high                                                                                    \n",
              "11 ... Somewhat low                                                                                     \n",
              "12 ... Very high                                                                                        \n",
              "13 ... Very low                                                                                         \n",
              "14 shopping_style                                                                                       \n",
              "15 ... I shop 2-4 times a month                                                                         \n",
              "16 ... I shop 5-10 times a month                                                                        \n",
              "17 ... I shop more than 10 times a month                                                                \n",
              "18 ... I shop once a month or less                                                                      \n",
              "19 shop_online                                                                                          \n",
              "20 ... I never shop online                                                                              \n",
              "21 ... I occasionally shop online                                                                       \n",
              "22 ... I only shop online                                                                               \n",
              "23 ... I usually shop online                                                                            \n",
              "24 ... It’s about equal, I shop online and in person                                                    \n",
              "25 shopping_preferences                                                                                 \n",
              "26 ... I browse until I find what I need and then make a purchase                                       \n",
              "27 ... I don’t browse for pleasure                                                                      \n",
              "28 ... I know exactly what I need and spend little time browsing before making a purchase               \n",
              "29 ... I often browse products without making a purchase                                                \n",
              "30 ... I spend the majority of my time browsing before making a purchase                                \n",
              "⋮  ⋮                                                                                                    \n",
              "35 ... 2+ hours                                                                                         \n",
              "36 shopping_montly_amount                                                                               \n",
              "37 ... $ 0 to $100                                                                                      \n",
              "38 ... $100 - $300                                                                                      \n",
              "39 ... $300 - $500                                                                                      \n",
              "40 ... Over $500                                                                                        \n",
              "41 shopping_exp_description                                                                             \n",
              "42 ... I am always frustrated with the size of my garment                                               \n",
              "43 ... I am always satisfied by the fit of my garment                                                   \n",
              "44 ... I am usually frustrated with the size of my garment                                              \n",
              "45 ... I am usually satisfied by the fit of my garment                                                  \n",
              "46 ... Sometimes it fits, sometimes it doesn’t                                                          \n",
              "47 size_bucket                                                                                          \n",
              "48 ... 0-4                                                                                              \n",
              "49 ... 12-16                                                                                            \n",
              "50 ... 18-24                                                                                            \n",
              "51 ... 26+                                                                                              \n",
              "52 ... 6-10                                                                                             \n",
              "53 size_purchase_confidence                                                                             \n",
              "54 ... I am certain, I always order the right size                                                      \n",
              "55 ... I am not very confident, I often order the wrong size                                            \n",
              "56 ... I am very confident, I usually order the right size                                              \n",
              "57 ... I have no confidence in the fit, I always need to order a different size after the first purchase\n",
              "58 ... I’m not sure                                                                                     \n",
              "59 model_image_usefulness                                                                               \n",
              "60 ... The model images didn’t make a difference on my selection                                        \n",
              "61 ... The model images made it very difficult for me to confidently make a purchase                    \n",
              "62 ... The model images were helpful for choosing a purchase                                            \n",
              "63 ... The model images were necessary for choosing a purchase                                          \n",
              "64 ... The model images weren’t helpful for choosing a purchase                                         \n",
              "   N  Percent N  Percent Test     \n",
              "1  0          1                   \n",
              "2  76         75         X2=1.25  \n",
              "3  15 19.7%   13 17.3%            \n",
              "4  25 32.9%   23 30.7%            \n",
              "5  13 17.1%   13 17.3%            \n",
              "6  17 22.4%   16 21.3%            \n",
              "7  6  7.9%    10 13.3%            \n",
              "8  76         75         X2=2.056 \n",
              "9  22 28.9%   23 30.7%            \n",
              "10 25 32.9%   22 29.3%            \n",
              "11 16 21.1%   14 18.7%            \n",
              "12 7  9.2%    12 16%              \n",
              "13 6  7.9%    4  5.3%             \n",
              "14 76         75         X2=6.815*\n",
              "15 26 34.2%   34 45.3%            \n",
              "16 13 17.1%   8  10.7%            \n",
              "17 7  9.2%    1  1.3%             \n",
              "18 30 39.5%   32 42.7%            \n",
              "19 76         75         X2=0.18  \n",
              "20 1  1.3%    1  1.3%             \n",
              "21 12 15.8%   11 14.7%            \n",
              "22 7  9.2%    7  9.3%             \n",
              "23 29 38.2%   27 36%              \n",
              "24 27 35.5%   29 38.7%            \n",
              "25 76         75         X2=0.842 \n",
              "26 26 34.2%   22 29.3%            \n",
              "27 1  1.3%    2  2.7%             \n",
              "28 2  2.6%    2  2.7%             \n",
              "29 10 13.2%   12 16%              \n",
              "30 37 48.7%   37 49.3%            \n",
              "⋮  ⋮  ⋮       ⋮  ⋮       ⋮        \n",
              "35 6  7.9%    5  6.7%             \n",
              "36 76         75         X2=2.279 \n",
              "37 43 56.6%   43 57.3%            \n",
              "38 27 35.5%   27 36%              \n",
              "39 5  6.6%    2  2.7%             \n",
              "40 1  1.3%    3  4%               \n",
              "41 76         75         X2=2.683 \n",
              "42 1  1.3%    3  4%               \n",
              "43 4  5.3%    2  2.7%             \n",
              "44 7  9.2%    9  12%              \n",
              "45 33 43.4%   36 48%              \n",
              "46 31 40.8%   25 33.3%            \n",
              "47 76         75         X2=1.125 \n",
              "48 14 18.4%   13 17.3%            \n",
              "49 19 25%     18 24%              \n",
              "50 10 13.2%   9  12%              \n",
              "51 0  0%      1  1.3%             \n",
              "52 33 43.4%   34 45.3%            \n",
              "53 76         75         X2=1.304 \n",
              "54 6  7.9%    7  9.3%             \n",
              "55 11 14.5%   7  9.3%             \n",
              "56 45 59.2%   44 58.7%            \n",
              "57 2  2.6%    2  2.7%             \n",
              "58 12 15.8%   15 20%              \n",
              "59 76         75         X2=8.847*\n",
              "60 14 18.4%   16 21.3%            \n",
              "61 1  1.3%    0  0%               \n",
              "62 44 57.9%   30 40%              \n",
              "63 14 18.4%   18 24%              \n",
              "64 3  3.9%    11 14.7%            "
            ],
            "text/latex": "A data.frame: 64 × 6\n\\begin{tabular}{llllll}\n Variable & N & Percent & N & Percent & Test\\\\\n <chr> & <chr> & <chr> & <chr> & <chr> & <chr>\\\\\n\\hline\n\t treated                                                                                & 0  &       & 1  &       &          \\\\\n\t age                                                                                    & 76 &       & 75 &       & X2=1.25  \\\\\n\t ... 18 -29 years                                                                       & 15 & 19.7\\% & 13 & 17.3\\% &          \\\\\n\t ... 30-39 years                                                                        & 25 & 32.9\\% & 23 & 30.7\\% &          \\\\\n\t ... 40-49 years                                                                        & 13 & 17.1\\% & 13 & 17.3\\% &          \\\\\n\t ... 50-59 years                                                                        & 17 & 22.4\\% & 16 & 21.3\\% &          \\\\\n\t ... 60+ years                                                                          & 6  & 7.9\\%  & 10 & 13.3\\% &          \\\\\n\t self\\_esteem\\_rate                                                                       & 76 &       & 75 &       & X2=2.056 \\\\\n\t ... Neutral                                                                            & 22 & 28.9\\% & 23 & 30.7\\% &          \\\\\n\t ... Somewhat high                                                                      & 25 & 32.9\\% & 22 & 29.3\\% &          \\\\\n\t ... Somewhat low                                                                       & 16 & 21.1\\% & 14 & 18.7\\% &          \\\\\n\t ... Very high                                                                          & 7  & 9.2\\%  & 12 & 16\\%   &          \\\\\n\t ... Very low                                                                           & 6  & 7.9\\%  & 4  & 5.3\\%  &          \\\\\n\t shopping\\_style                                                                         & 76 &       & 75 &       & X2=6.815*\\\\\n\t ... I shop 2-4 times a month                                                           & 26 & 34.2\\% & 34 & 45.3\\% &          \\\\\n\t ... I shop 5-10 times a month                                                          & 13 & 17.1\\% & 8  & 10.7\\% &          \\\\\n\t ... I shop more than 10 times a month                                                  & 7  & 9.2\\%  & 1  & 1.3\\%  &          \\\\\n\t ... I shop once a month or less                                                        & 30 & 39.5\\% & 32 & 42.7\\% &          \\\\\n\t shop\\_online                                                                            & 76 &       & 75 &       & X2=0.18  \\\\\n\t ... I never shop online                                                                & 1  & 1.3\\%  & 1  & 1.3\\%  &          \\\\\n\t ... I occasionally shop online                                                         & 12 & 15.8\\% & 11 & 14.7\\% &          \\\\\n\t ... I only shop online                                                                 & 7  & 9.2\\%  & 7  & 9.3\\%  &          \\\\\n\t ... I usually shop online                                                              & 29 & 38.2\\% & 27 & 36\\%   &          \\\\\n\t ... It’s about equal, I shop online and in person                                      & 27 & 35.5\\% & 29 & 38.7\\% &          \\\\\n\t shopping\\_preferences                                                                   & 76 &       & 75 &       & X2=0.842 \\\\\n\t ... I browse until I find what I need and then make a purchase                         & 26 & 34.2\\% & 22 & 29.3\\% &          \\\\\n\t ... I don’t browse for pleasure                                                        & 1  & 1.3\\%  & 2  & 2.7\\%  &          \\\\\n\t ... I know exactly what I need and spend little time browsing before making a purchase & 2  & 2.6\\%  & 2  & 2.7\\%  &          \\\\\n\t ... I often browse products without making a purchase                                  & 10 & 13.2\\% & 12 & 16\\%   &          \\\\\n\t ... I spend the majority of my time browsing before making a purchase                  & 37 & 48.7\\% & 37 & 49.3\\% &          \\\\\n\t ⋮ & ⋮ & ⋮ & ⋮ & ⋮ & ⋮\\\\\n\t ... 2+ hours                                                                                          & 6  & 7.9\\%  & 5  & 6.7\\%  &          \\\\\n\t shopping\\_montly\\_amount                                                                                & 76 &       & 75 &       & X2=2.279 \\\\\n\t ... \\$ 0 to \\$100                                                                                       & 43 & 56.6\\% & 43 & 57.3\\% &          \\\\\n\t ... \\$100 - \\$300                                                                                       & 27 & 35.5\\% & 27 & 36\\%   &          \\\\\n\t ... \\$300 - \\$500                                                                                       & 5  & 6.6\\%  & 2  & 2.7\\%  &          \\\\\n\t ... Over \\$500                                                                                         & 1  & 1.3\\%  & 3  & 4\\%    &          \\\\\n\t shopping\\_exp\\_description                                                                              & 76 &       & 75 &       & X2=2.683 \\\\\n\t ... I am always frustrated with the size of my garment                                                & 1  & 1.3\\%  & 3  & 4\\%    &          \\\\\n\t ... I am always satisfied by the fit of my garment                                                    & 4  & 5.3\\%  & 2  & 2.7\\%  &          \\\\\n\t ... I am usually frustrated with the size of my garment                                               & 7  & 9.2\\%  & 9  & 12\\%   &          \\\\\n\t ... I am usually satisfied by the fit of my garment                                                   & 33 & 43.4\\% & 36 & 48\\%   &          \\\\\n\t ... Sometimes it fits, sometimes it doesn’t                                                           & 31 & 40.8\\% & 25 & 33.3\\% &          \\\\\n\t size\\_bucket                                                                                           & 76 &       & 75 &       & X2=1.125 \\\\\n\t ... 0-4                                                                                               & 14 & 18.4\\% & 13 & 17.3\\% &          \\\\\n\t ... 12-16                                                                                             & 19 & 25\\%   & 18 & 24\\%   &          \\\\\n\t ... 18-24                                                                                             & 10 & 13.2\\% & 9  & 12\\%   &          \\\\\n\t ... 26+                                                                                               & 0  & 0\\%    & 1  & 1.3\\%  &          \\\\\n\t ... 6-10                                                                                              & 33 & 43.4\\% & 34 & 45.3\\% &          \\\\\n\t size\\_purchase\\_confidence                                                                              & 76 &       & 75 &       & X2=1.304 \\\\\n\t ... I am certain, I always order the right size                                                       & 6  & 7.9\\%  & 7  & 9.3\\%  &          \\\\\n\t ... I am not very confident, I often order the wrong size                                             & 11 & 14.5\\% & 7  & 9.3\\%  &          \\\\\n\t ... I am very confident, I usually order the right size                                               & 45 & 59.2\\% & 44 & 58.7\\% &          \\\\\n\t ... I have no confidence in the fit, I always need to order a different size after the first purchase & 2  & 2.6\\%  & 2  & 2.7\\%  &          \\\\\n\t ... I’m not sure                                                                                      & 12 & 15.8\\% & 15 & 20\\%   &          \\\\\n\t model\\_image\\_usefulness                                                                                & 76 &       & 75 &       & X2=8.847*\\\\\n\t ... The model images didn’t make a difference on my selection                                         & 14 & 18.4\\% & 16 & 21.3\\% &          \\\\\n\t ... The model images made it very difficult for me to confidently make a purchase                     & 1  & 1.3\\%  & 0  & 0\\%    &          \\\\\n\t ... The model images were helpful for choosing a purchase                                             & 44 & 57.9\\% & 30 & 40\\%   &          \\\\\n\t ... The model images were necessary for choosing a purchase                                           & 14 & 18.4\\% & 18 & 24\\%   &          \\\\\n\t ... The model images weren’t helpful for choosing a purchase                                          & 3  & 3.9\\%  & 11 & 14.7\\% &          \\\\\n\\end{tabular}\n",
            "text/markdown": "\nA data.frame: 64 × 6\n\n| Variable &lt;chr&gt; | N &lt;chr&gt; | Percent &lt;chr&gt; | N &lt;chr&gt; | Percent &lt;chr&gt; | Test &lt;chr&gt; |\n|---|---|---|---|---|---|\n| treated                                                                                | 0  | <!----> | 1  | <!----> | <!----> |\n| age                                                                                    | 76 | <!----> | 75 | <!----> | X2=1.25   |\n| ... 18 -29 years                                                                       | 15 | 19.7% | 13 | 17.3% | <!----> |\n| ... 30-39 years                                                                        | 25 | 32.9% | 23 | 30.7% | <!----> |\n| ... 40-49 years                                                                        | 13 | 17.1% | 13 | 17.3% | <!----> |\n| ... 50-59 years                                                                        | 17 | 22.4% | 16 | 21.3% | <!----> |\n| ... 60+ years                                                                          | 6  | 7.9%  | 10 | 13.3% | <!----> |\n| self_esteem_rate                                                                       | 76 | <!----> | 75 | <!----> | X2=2.056  |\n| ... Neutral                                                                            | 22 | 28.9% | 23 | 30.7% | <!----> |\n| ... Somewhat high                                                                      | 25 | 32.9% | 22 | 29.3% | <!----> |\n| ... Somewhat low                                                                       | 16 | 21.1% | 14 | 18.7% | <!----> |\n| ... Very high                                                                          | 7  | 9.2%  | 12 | 16%   | <!----> |\n| ... Very low                                                                           | 6  | 7.9%  | 4  | 5.3%  | <!----> |\n| shopping_style                                                                         | 76 | <!----> | 75 | <!----> | X2=6.815* |\n| ... I shop 2-4 times a month                                                           | 26 | 34.2% | 34 | 45.3% | <!----> |\n| ... I shop 5-10 times a month                                                          | 13 | 17.1% | 8  | 10.7% | <!----> |\n| ... I shop more than 10 times a month                                                  | 7  | 9.2%  | 1  | 1.3%  | <!----> |\n| ... I shop once a month or less                                                        | 30 | 39.5% | 32 | 42.7% | <!----> |\n| shop_online                                                                            | 76 | <!----> | 75 | <!----> | X2=0.18   |\n| ... I never shop online                                                                | 1  | 1.3%  | 1  | 1.3%  | <!----> |\n| ... I occasionally shop online                                                         | 12 | 15.8% | 11 | 14.7% | <!----> |\n| ... I only shop online                                                                 | 7  | 9.2%  | 7  | 9.3%  | <!----> |\n| ... I usually shop online                                                              | 29 | 38.2% | 27 | 36%   | <!----> |\n| ... It’s about equal, I shop online and in person                                      | 27 | 35.5% | 29 | 38.7% | <!----> |\n| shopping_preferences                                                                   | 76 | <!----> | 75 | <!----> | X2=0.842  |\n| ... I browse until I find what I need and then make a purchase                         | 26 | 34.2% | 22 | 29.3% | <!----> |\n| ... I don’t browse for pleasure                                                        | 1  | 1.3%  | 2  | 2.7%  | <!----> |\n| ... I know exactly what I need and spend little time browsing before making a purchase | 2  | 2.6%  | 2  | 2.7%  | <!----> |\n| ... I often browse products without making a purchase                                  | 10 | 13.2% | 12 | 16%   | <!----> |\n| ... I spend the majority of my time browsing before making a purchase                  | 37 | 48.7% | 37 | 49.3% | <!----> |\n| ⋮ | ⋮ | ⋮ | ⋮ | ⋮ | ⋮ |\n| ... 2+ hours                                                                                          | 6  | 7.9%  | 5  | 6.7%  | <!----> |\n| shopping_montly_amount                                                                                | 76 | <!----> | 75 | <!----> | X2=2.279  |\n| ... $ 0 to $100                                                                                       | 43 | 56.6% | 43 | 57.3% | <!----> |\n| ... $100 - $300                                                                                       | 27 | 35.5% | 27 | 36%   | <!----> |\n| ... $300 - $500                                                                                       | 5  | 6.6%  | 2  | 2.7%  | <!----> |\n| ... Over $500                                                                                         | 1  | 1.3%  | 3  | 4%    | <!----> |\n| shopping_exp_description                                                                              | 76 | <!----> | 75 | <!----> | X2=2.683  |\n| ... I am always frustrated with the size of my garment                                                | 1  | 1.3%  | 3  | 4%    | <!----> |\n| ... I am always satisfied by the fit of my garment                                                    | 4  | 5.3%  | 2  | 2.7%  | <!----> |\n| ... I am usually frustrated with the size of my garment                                               | 7  | 9.2%  | 9  | 12%   | <!----> |\n| ... I am usually satisfied by the fit of my garment                                                   | 33 | 43.4% | 36 | 48%   | <!----> |\n| ... Sometimes it fits, sometimes it doesn’t                                                           | 31 | 40.8% | 25 | 33.3% | <!----> |\n| size_bucket                                                                                           | 76 | <!----> | 75 | <!----> | X2=1.125  |\n| ... 0-4                                                                                               | 14 | 18.4% | 13 | 17.3% | <!----> |\n| ... 12-16                                                                                             | 19 | 25%   | 18 | 24%   | <!----> |\n| ... 18-24                                                                                             | 10 | 13.2% | 9  | 12%   | <!----> |\n| ... 26+                                                                                               | 0  | 0%    | 1  | 1.3%  | <!----> |\n| ... 6-10                                                                                              | 33 | 43.4% | 34 | 45.3% | <!----> |\n| size_purchase_confidence                                                                              | 76 | <!----> | 75 | <!----> | X2=1.304  |\n| ... I am certain, I always order the right size                                                       | 6  | 7.9%  | 7  | 9.3%  | <!----> |\n| ... I am not very confident, I often order the wrong size                                             | 11 | 14.5% | 7  | 9.3%  | <!----> |\n| ... I am very confident, I usually order the right size                                               | 45 | 59.2% | 44 | 58.7% | <!----> |\n| ... I have no confidence in the fit, I always need to order a different size after the first purchase | 2  | 2.6%  | 2  | 2.7%  | <!----> |\n| ... I’m not sure                                                                                      | 12 | 15.8% | 15 | 20%   | <!----> |\n| model_image_usefulness                                                                                | 76 | <!----> | 75 | <!----> | X2=8.847* |\n| ... The model images didn’t make a difference on my selection                                         | 14 | 18.4% | 16 | 21.3% | <!----> |\n| ... The model images made it very difficult for me to confidently make a purchase                     | 1  | 1.3%  | 0  | 0%    | <!----> |\n| ... The model images were helpful for choosing a purchase                                             | 44 | 57.9% | 30 | 40%   | <!----> |\n| ... The model images were necessary for choosing a purchase                                           | 14 | 18.4% | 18 | 24%   | <!----> |\n| ... The model images weren’t helpful for choosing a purchase                                          | 3  | 3.9%  | 11 | 14.7% | <!----> |\n\n",
            "text/html": [
              "<table class=\"dataframe\">\n",
              "<caption>A data.frame: 64 × 6</caption>\n",
              "<thead>\n",
              "\t<tr><th scope=col>Variable</th><th scope=col>N</th><th scope=col>Percent</th><th scope=col>N</th><th scope=col>Percent</th><th scope=col>Test</th></tr>\n",
              "\t<tr><th scope=col>&lt;chr&gt;</th><th scope=col>&lt;chr&gt;</th><th scope=col>&lt;chr&gt;</th><th scope=col>&lt;chr&gt;</th><th scope=col>&lt;chr&gt;</th><th scope=col>&lt;chr&gt;</th></tr>\n",
              "</thead>\n",
              "<tbody>\n",
              "\t<tr><td>treated                                                                               </td><td>0 </td><td>     </td><td>1 </td><td>     </td><td>         </td></tr>\n",
              "\t<tr><td>age                                                                                   </td><td>76</td><td>     </td><td>75</td><td>     </td><td>X2=1.25  </td></tr>\n",
              "\t<tr><td>... 18 -29 years                                                                      </td><td>15</td><td>19.7%</td><td>13</td><td>17.3%</td><td>         </td></tr>\n",
              "\t<tr><td>... 30-39 years                                                                       </td><td>25</td><td>32.9%</td><td>23</td><td>30.7%</td><td>         </td></tr>\n",
              "\t<tr><td>... 40-49 years                                                                       </td><td>13</td><td>17.1%</td><td>13</td><td>17.3%</td><td>         </td></tr>\n",
              "\t<tr><td>... 50-59 years                                                                       </td><td>17</td><td>22.4%</td><td>16</td><td>21.3%</td><td>         </td></tr>\n",
              "\t<tr><td>... 60+ years                                                                         </td><td>6 </td><td>7.9% </td><td>10</td><td>13.3%</td><td>         </td></tr>\n",
              "\t<tr><td>self_esteem_rate                                                                      </td><td>76</td><td>     </td><td>75</td><td>     </td><td>X2=2.056 </td></tr>\n",
              "\t<tr><td>... Neutral                                                                           </td><td>22</td><td>28.9%</td><td>23</td><td>30.7%</td><td>         </td></tr>\n",
              "\t<tr><td>... Somewhat high                                                                     </td><td>25</td><td>32.9%</td><td>22</td><td>29.3%</td><td>         </td></tr>\n",
              "\t<tr><td>... Somewhat low                                                                      </td><td>16</td><td>21.1%</td><td>14</td><td>18.7%</td><td>         </td></tr>\n",
              "\t<tr><td>... Very high                                                                         </td><td>7 </td><td>9.2% </td><td>12</td><td>16%  </td><td>         </td></tr>\n",
              "\t<tr><td>... Very low                                                                          </td><td>6 </td><td>7.9% </td><td>4 </td><td>5.3% </td><td>         </td></tr>\n",
              "\t<tr><td>shopping_style                                                                        </td><td>76</td><td>     </td><td>75</td><td>     </td><td>X2=6.815*</td></tr>\n",
              "\t<tr><td>... I shop 2-4 times a month                                                          </td><td>26</td><td>34.2%</td><td>34</td><td>45.3%</td><td>         </td></tr>\n",
              "\t<tr><td>... I shop 5-10 times a month                                                         </td><td>13</td><td>17.1%</td><td>8 </td><td>10.7%</td><td>         </td></tr>\n",
              "\t<tr><td>... I shop more than 10 times a month                                                 </td><td>7 </td><td>9.2% </td><td>1 </td><td>1.3% </td><td>         </td></tr>\n",
              "\t<tr><td>... I shop once a month or less                                                       </td><td>30</td><td>39.5%</td><td>32</td><td>42.7%</td><td>         </td></tr>\n",
              "\t<tr><td>shop_online                                                                           </td><td>76</td><td>     </td><td>75</td><td>     </td><td>X2=0.18  </td></tr>\n",
              "\t<tr><td>... I never shop online                                                               </td><td>1 </td><td>1.3% </td><td>1 </td><td>1.3% </td><td>         </td></tr>\n",
              "\t<tr><td>... I occasionally shop online                                                        </td><td>12</td><td>15.8%</td><td>11</td><td>14.7%</td><td>         </td></tr>\n",
              "\t<tr><td>... I only shop online                                                                </td><td>7 </td><td>9.2% </td><td>7 </td><td>9.3% </td><td>         </td></tr>\n",
              "\t<tr><td>... I usually shop online                                                             </td><td>29</td><td>38.2%</td><td>27</td><td>36%  </td><td>         </td></tr>\n",
              "\t<tr><td>... It’s about equal, I shop online and in person                                     </td><td>27</td><td>35.5%</td><td>29</td><td>38.7%</td><td>         </td></tr>\n",
              "\t<tr><td>shopping_preferences                                                                  </td><td>76</td><td>     </td><td>75</td><td>     </td><td>X2=0.842 </td></tr>\n",
              "\t<tr><td>... I browse until I find what I need and then make a purchase                        </td><td>26</td><td>34.2%</td><td>22</td><td>29.3%</td><td>         </td></tr>\n",
              "\t<tr><td>... I don’t browse for pleasure                                                       </td><td>1 </td><td>1.3% </td><td>2 </td><td>2.7% </td><td>         </td></tr>\n",
              "\t<tr><td>... I know exactly what I need and spend little time browsing before making a purchase</td><td>2 </td><td>2.6% </td><td>2 </td><td>2.7% </td><td>         </td></tr>\n",
              "\t<tr><td>... I often browse products without making a purchase                                 </td><td>10</td><td>13.2%</td><td>12</td><td>16%  </td><td>         </td></tr>\n",
              "\t<tr><td>... I spend the majority of my time browsing before making a purchase                 </td><td>37</td><td>48.7%</td><td>37</td><td>49.3%</td><td>         </td></tr>\n",
              "\t<tr><td>⋮</td><td>⋮</td><td>⋮</td><td>⋮</td><td>⋮</td><td>⋮</td></tr>\n",
              "\t<tr><td>... 2+ hours                                                                                         </td><td>6 </td><td>7.9% </td><td>5 </td><td>6.7% </td><td>         </td></tr>\n",
              "\t<tr><td>shopping_montly_amount                                                                               </td><td>76</td><td>     </td><td>75</td><td>     </td><td>X2=2.279 </td></tr>\n",
              "\t<tr><td>... $ 0 to $100                                                                                      </td><td>43</td><td>56.6%</td><td>43</td><td>57.3%</td><td>         </td></tr>\n",
              "\t<tr><td>... $100 - $300                                                                                      </td><td>27</td><td>35.5%</td><td>27</td><td>36%  </td><td>         </td></tr>\n",
              "\t<tr><td>... $300 - $500                                                                                      </td><td>5 </td><td>6.6% </td><td>2 </td><td>2.7% </td><td>         </td></tr>\n",
              "\t<tr><td>... Over $500                                                                                        </td><td>1 </td><td>1.3% </td><td>3 </td><td>4%   </td><td>         </td></tr>\n",
              "\t<tr><td>shopping_exp_description                                                                             </td><td>76</td><td>     </td><td>75</td><td>     </td><td>X2=2.683 </td></tr>\n",
              "\t<tr><td>... I am always frustrated with the size of my garment                                               </td><td>1 </td><td>1.3% </td><td>3 </td><td>4%   </td><td>         </td></tr>\n",
              "\t<tr><td>... I am always satisfied by the fit of my garment                                                   </td><td>4 </td><td>5.3% </td><td>2 </td><td>2.7% </td><td>         </td></tr>\n",
              "\t<tr><td>... I am usually frustrated with the size of my garment                                              </td><td>7 </td><td>9.2% </td><td>9 </td><td>12%  </td><td>         </td></tr>\n",
              "\t<tr><td>... I am usually satisfied by the fit of my garment                                                  </td><td>33</td><td>43.4%</td><td>36</td><td>48%  </td><td>         </td></tr>\n",
              "\t<tr><td>... Sometimes it fits, sometimes it doesn’t                                                          </td><td>31</td><td>40.8%</td><td>25</td><td>33.3%</td><td>         </td></tr>\n",
              "\t<tr><td>size_bucket                                                                                          </td><td>76</td><td>     </td><td>75</td><td>     </td><td>X2=1.125 </td></tr>\n",
              "\t<tr><td>... 0-4                                                                                              </td><td>14</td><td>18.4%</td><td>13</td><td>17.3%</td><td>         </td></tr>\n",
              "\t<tr><td>... 12-16                                                                                            </td><td>19</td><td>25%  </td><td>18</td><td>24%  </td><td>         </td></tr>\n",
              "\t<tr><td>... 18-24                                                                                            </td><td>10</td><td>13.2%</td><td>9 </td><td>12%  </td><td>         </td></tr>\n",
              "\t<tr><td>... 26+                                                                                              </td><td>0 </td><td>0%   </td><td>1 </td><td>1.3% </td><td>         </td></tr>\n",
              "\t<tr><td>... 6-10                                                                                             </td><td>33</td><td>43.4%</td><td>34</td><td>45.3%</td><td>         </td></tr>\n",
              "\t<tr><td>size_purchase_confidence                                                                             </td><td>76</td><td>     </td><td>75</td><td>     </td><td>X2=1.304 </td></tr>\n",
              "\t<tr><td>... I am certain, I always order the right size                                                      </td><td>6 </td><td>7.9% </td><td>7 </td><td>9.3% </td><td>         </td></tr>\n",
              "\t<tr><td>... I am not very confident, I often order the wrong size                                            </td><td>11</td><td>14.5%</td><td>7 </td><td>9.3% </td><td>         </td></tr>\n",
              "\t<tr><td>... I am very confident, I usually order the right size                                              </td><td>45</td><td>59.2%</td><td>44</td><td>58.7%</td><td>         </td></tr>\n",
              "\t<tr><td>... I have no confidence in the fit, I always need to order a different size after the first purchase</td><td>2 </td><td>2.6% </td><td>2 </td><td>2.7% </td><td>         </td></tr>\n",
              "\t<tr><td>... I’m not sure                                                                                     </td><td>12</td><td>15.8%</td><td>15</td><td>20%  </td><td>         </td></tr>\n",
              "\t<tr><td>model_image_usefulness                                                                               </td><td>76</td><td>     </td><td>75</td><td>     </td><td>X2=8.847*</td></tr>\n",
              "\t<tr><td>... The model images didn’t make a difference on my selection                                        </td><td>14</td><td>18.4%</td><td>16</td><td>21.3%</td><td>         </td></tr>\n",
              "\t<tr><td>... The model images made it very difficult for me to confidently make a purchase                    </td><td>1 </td><td>1.3% </td><td>0 </td><td>0%   </td><td>         </td></tr>\n",
              "\t<tr><td>... The model images were helpful for choosing a purchase                                            </td><td>44</td><td>57.9%</td><td>30</td><td>40%  </td><td>         </td></tr>\n",
              "\t<tr><td>... The model images were necessary for choosing a purchase                                          </td><td>14</td><td>18.4%</td><td>18</td><td>24%  </td><td>         </td></tr>\n",
              "\t<tr><td>... The model images weren’t helpful for choosing a purchase                                         </td><td>3 </td><td>3.9% </td><td>11</td><td>14.7%</td><td>         </td></tr>\n",
              "</tbody>\n",
              "</table>\n"
            ]
          },
          "metadata": {
            "tags": []
          }
        }
      ]
    },
    {
      "cell_type": "code",
      "metadata": {
        "colab": {
          "base_uri": "https://localhost:8080/",
          "height": 1000
        },
        "id": "uYsUfn7Q5Y0D",
        "outputId": "b0efbf00-a534-41d5-c81f-6c74a6f2cd84"
      },
      "source": [
        "#######################################\n",
        "# COVARIATE BALANCE CHECK (CONDENSED) #\n",
        "#######################################\n",
        "\n",
        "#Reduce Covariate Dimensionality\n",
        "clean_dt <- map_to_condensed_variables(clean_dt)\n",
        "\n",
        "#Create Condensed Covariates Table\n",
        "#Note: During dimensionality reduction, two new columns named, \"size_bucket_condensed\" and \"size_bucket_condensed_binary\" are added. \n",
        "#The \"size_bucket_condensed\" column is representative of condensing the original \"size_bucket\" column to either, above, below, or at the mode of the size bucket responses.\n",
        "#The \"size_bucket_condensed_binary\" column is representative of condensing the original \"size_bucket\" column to a binary variable that is either, above or below the mode of the size bucket responses.\n",
        "\n",
        "covariates_condensed <- clean_dt[,c(2:7, 11:12, 20, 21, 13:14, 16)]\n",
        "\n",
        "#Create Covariance Balance Table\n",
        "covariate_balance_table_condensed <- sumtable(covariates_condensed, group = \"treated\", group.test = TRUE, out = \"return\")\n",
        "\n",
        "covariate_balance_table_condensed"
      ],
      "execution_count": null,
      "outputs": [
        {
          "output_type": "display_data",
          "data": {
            "text/plain": [
              "   Variable                                                                         \n",
              "1  treated                                                                          \n",
              "2  age                                                                              \n",
              "3  ... 18 -29 years                                                                 \n",
              "4  ... 30-39 years                                                                  \n",
              "5  ... 40-49 years                                                                  \n",
              "6  ... 50-59 years                                                                  \n",
              "7  ... 60+ years                                                                    \n",
              "8  race                                                                             \n",
              "9  ... Asian                                                                        \n",
              "10 ... Black or African American                                                    \n",
              "11 ... Hispanic or Latino                                                           \n",
              "12 ... Mixed/Other                                                                  \n",
              "13 ... White                                                                        \n",
              "14 self_esteem_rate                                                                 \n",
              "15 ... High                                                                         \n",
              "16 ... Low                                                                          \n",
              "17 ... Neutral                                                                      \n",
              "18 shopping_style                                                                   \n",
              "19 ... shop 2-4 times per month                                                     \n",
              "20 ... shop 5+ times per month                                                      \n",
              "21 ... shop less than once per month                                                \n",
              "22 shop_online                                                                      \n",
              "23 ... about equal                                                                  \n",
              "24 ... mostly in person                                                             \n",
              "25 ... mostly online                                                                \n",
              "26 shopping_preferences                                                             \n",
              "27 ... high browsing                                                                \n",
              "28 ... low browsing                                                                 \n",
              "29 ... medium browsing                                                              \n",
              "30 shopping_exp_description                                                         \n",
              "31 ... sometimes satisfied                                                          \n",
              "32 ... usually frustrated                                                           \n",
              "33 ... usually satisfied                                                            \n",
              "34 size_bucket                                                                      \n",
              "35 ... 0-4                                                                          \n",
              "36 ... 12-16                                                                        \n",
              "37 ... 18+                                                                          \n",
              "38 ... 6-10                                                                         \n",
              "39 size_bucket_condensed                                                            \n",
              "40 ... Above Modal Size                                                             \n",
              "41 ... Below Modal Size                                                             \n",
              "42 ... Modal Size                                                                   \n",
              "43 size_bucket_condensed_binary                                                     \n",
              "44 ... Above Modal Size                                                             \n",
              "45 ... Modal and Below Modal Size                                                   \n",
              "46 size_purchase_confidence                                                         \n",
              "47 ... confident                                                                    \n",
              "48 ... not confident                                                                \n",
              "49 ... sometimes confident                                                          \n",
              "50 model_image_usefulness                                                           \n",
              "51 ... The model images didn’t make a difference on my selection                    \n",
              "52 ... The model images made it very difficult for me to confidently make a purchase\n",
              "53 ... The model images were helpful for choosing a purchase                        \n",
              "54 ... The model images were necessary for choosing a purchase                      \n",
              "55 ... The model images weren’t helpful for choosing a purchase                     \n",
              "   N  Percent N  Percent Test     \n",
              "1  0          1                   \n",
              "2  76         75         X2=1.25  \n",
              "3  15 19.7%   13 17.3%            \n",
              "4  25 32.9%   23 30.7%            \n",
              "5  13 17.1%   13 17.3%            \n",
              "6  17 22.4%   16 21.3%            \n",
              "7  6  7.9%    10 13.3%            \n",
              "8  76         75         X2=3.422 \n",
              "9  7  9.2%    9  12%              \n",
              "10 1  1.3%    5  6.7%             \n",
              "11 3  3.9%    2  2.7%             \n",
              "12 6  7.9%    5  6.7%             \n",
              "13 59 77.6%   54 72%              \n",
              "14 76         75         X2=0.476 \n",
              "15 32 42.1%   34 45.3%            \n",
              "16 22 28.9%   18 24%              \n",
              "17 22 28.9%   23 30.7%            \n",
              "18 76         75         X2=5.297*\n",
              "19 26 34.2%   34 45.3%            \n",
              "20 20 26.3%   9  12%              \n",
              "21 30 39.5%   32 42.7%            \n",
              "22 76         75         X2=0.162 \n",
              "23 27 35.5%   29 38.7%            \n",
              "24 13 17.1%   12 16%              \n",
              "25 36 47.4%   34 45.3%            \n",
              "26 76         75         X2=0.511 \n",
              "27 47 61.8%   49 65.3%            \n",
              "28 3  3.9%    4  5.3%             \n",
              "29 26 34.2%   22 29.3%            \n",
              "30 76         75         X2=1.45  \n",
              "31 31 40.8%   25 33.3%            \n",
              "32 8  10.5%   12 16%              \n",
              "33 37 48.7%   38 50.7%            \n",
              "34 76         75         X2=0.072 \n",
              "35 14 18.4%   13 17.3%            \n",
              "36 19 25%     18 24%              \n",
              "37 10 13.2%   10 13.3%            \n",
              "38 33 43.4%   34 45.3%            \n",
              "39 76         75         X2=0.063 \n",
              "40 29 38.2%   28 37.3%            \n",
              "41 14 18.4%   13 17.3%            \n",
              "42 33 43.4%   34 45.3%            \n",
              "43 76         75         X2=0     \n",
              "44 29 38.2%   28 37.3%            \n",
              "45 47 61.8%   47 62.7%            \n",
              "46 76         75         X2=1.054 \n",
              "47 51 67.1%   51 68%              \n",
              "48 13 17.1%   9  12%              \n",
              "49 12 15.8%   15 20%              \n",
              "50 76         75         X2=8.847*\n",
              "51 14 18.4%   16 21.3%            \n",
              "52 1  1.3%    0  0%               \n",
              "53 44 57.9%   30 40%              \n",
              "54 14 18.4%   18 24%              \n",
              "55 3  3.9%    11 14.7%            "
            ],
            "text/latex": "A data.frame: 55 × 6\n\\begin{tabular}{llllll}\n Variable & N & Percent & N & Percent & Test\\\\\n <chr> & <chr> & <chr> & <chr> & <chr> & <chr>\\\\\n\\hline\n\t treated                                                                           & 0  &       & 1  &       &          \\\\\n\t age                                                                               & 76 &       & 75 &       & X2=1.25  \\\\\n\t ... 18 -29 years                                                                  & 15 & 19.7\\% & 13 & 17.3\\% &          \\\\\n\t ... 30-39 years                                                                   & 25 & 32.9\\% & 23 & 30.7\\% &          \\\\\n\t ... 40-49 years                                                                   & 13 & 17.1\\% & 13 & 17.3\\% &          \\\\\n\t ... 50-59 years                                                                   & 17 & 22.4\\% & 16 & 21.3\\% &          \\\\\n\t ... 60+ years                                                                     & 6  & 7.9\\%  & 10 & 13.3\\% &          \\\\\n\t race                                                                              & 76 &       & 75 &       & X2=3.422 \\\\\n\t ... Asian                                                                         & 7  & 9.2\\%  & 9  & 12\\%   &          \\\\\n\t ... Black or African American                                                     & 1  & 1.3\\%  & 5  & 6.7\\%  &          \\\\\n\t ... Hispanic or Latino                                                            & 3  & 3.9\\%  & 2  & 2.7\\%  &          \\\\\n\t ... Mixed/Other                                                                   & 6  & 7.9\\%  & 5  & 6.7\\%  &          \\\\\n\t ... White                                                                         & 59 & 77.6\\% & 54 & 72\\%   &          \\\\\n\t self\\_esteem\\_rate                                                                  & 76 &       & 75 &       & X2=0.476 \\\\\n\t ... High                                                                          & 32 & 42.1\\% & 34 & 45.3\\% &          \\\\\n\t ... Low                                                                           & 22 & 28.9\\% & 18 & 24\\%   &          \\\\\n\t ... Neutral                                                                       & 22 & 28.9\\% & 23 & 30.7\\% &          \\\\\n\t shopping\\_style                                                                    & 76 &       & 75 &       & X2=5.297*\\\\\n\t ... shop 2-4 times per month                                                      & 26 & 34.2\\% & 34 & 45.3\\% &          \\\\\n\t ... shop 5+ times per month                                                       & 20 & 26.3\\% & 9  & 12\\%   &          \\\\\n\t ... shop less than once per month                                                 & 30 & 39.5\\% & 32 & 42.7\\% &          \\\\\n\t shop\\_online                                                                       & 76 &       & 75 &       & X2=0.162 \\\\\n\t ... about equal                                                                   & 27 & 35.5\\% & 29 & 38.7\\% &          \\\\\n\t ... mostly in person                                                              & 13 & 17.1\\% & 12 & 16\\%   &          \\\\\n\t ... mostly online                                                                 & 36 & 47.4\\% & 34 & 45.3\\% &          \\\\\n\t shopping\\_preferences                                                              & 76 &       & 75 &       & X2=0.511 \\\\\n\t ... high browsing                                                                 & 47 & 61.8\\% & 49 & 65.3\\% &          \\\\\n\t ... low browsing                                                                  & 3  & 3.9\\%  & 4  & 5.3\\%  &          \\\\\n\t ... medium browsing                                                               & 26 & 34.2\\% & 22 & 29.3\\% &          \\\\\n\t shopping\\_exp\\_description                                                          & 76 &       & 75 &       & X2=1.45  \\\\\n\t ... sometimes satisfied                                                           & 31 & 40.8\\% & 25 & 33.3\\% &          \\\\\n\t ... usually frustrated                                                            & 8  & 10.5\\% & 12 & 16\\%   &          \\\\\n\t ... usually satisfied                                                             & 37 & 48.7\\% & 38 & 50.7\\% &          \\\\\n\t size\\_bucket                                                                       & 76 &       & 75 &       & X2=0.072 \\\\\n\t ... 0-4                                                                           & 14 & 18.4\\% & 13 & 17.3\\% &          \\\\\n\t ... 12-16                                                                         & 19 & 25\\%   & 18 & 24\\%   &          \\\\\n\t ... 18+                                                                           & 10 & 13.2\\% & 10 & 13.3\\% &          \\\\\n\t ... 6-10                                                                          & 33 & 43.4\\% & 34 & 45.3\\% &          \\\\\n\t size\\_bucket\\_condensed                                                             & 76 &       & 75 &       & X2=0.063 \\\\\n\t ... Above Modal Size                                                              & 29 & 38.2\\% & 28 & 37.3\\% &          \\\\\n\t ... Below Modal Size                                                              & 14 & 18.4\\% & 13 & 17.3\\% &          \\\\\n\t ... Modal Size                                                                    & 33 & 43.4\\% & 34 & 45.3\\% &          \\\\\n\t size\\_bucket\\_condensed\\_binary                                                      & 76 &       & 75 &       & X2=0     \\\\\n\t ... Above Modal Size                                                              & 29 & 38.2\\% & 28 & 37.3\\% &          \\\\\n\t ... Modal and Below Modal Size                                                    & 47 & 61.8\\% & 47 & 62.7\\% &          \\\\\n\t size\\_purchase\\_confidence                                                          & 76 &       & 75 &       & X2=1.054 \\\\\n\t ... confident                                                                     & 51 & 67.1\\% & 51 & 68\\%   &          \\\\\n\t ... not confident                                                                 & 13 & 17.1\\% & 9  & 12\\%   &          \\\\\n\t ... sometimes confident                                                           & 12 & 15.8\\% & 15 & 20\\%   &          \\\\\n\t model\\_image\\_usefulness                                                            & 76 &       & 75 &       & X2=8.847*\\\\\n\t ... The model images didn’t make a difference on my selection                     & 14 & 18.4\\% & 16 & 21.3\\% &          \\\\\n\t ... The model images made it very difficult for me to confidently make a purchase & 1  & 1.3\\%  & 0  & 0\\%    &          \\\\\n\t ... The model images were helpful for choosing a purchase                         & 44 & 57.9\\% & 30 & 40\\%   &          \\\\\n\t ... The model images were necessary for choosing a purchase                       & 14 & 18.4\\% & 18 & 24\\%   &          \\\\\n\t ... The model images weren’t helpful for choosing a purchase                      & 3  & 3.9\\%  & 11 & 14.7\\% &          \\\\\n\\end{tabular}\n",
            "text/markdown": "\nA data.frame: 55 × 6\n\n| Variable &lt;chr&gt; | N &lt;chr&gt; | Percent &lt;chr&gt; | N &lt;chr&gt; | Percent &lt;chr&gt; | Test &lt;chr&gt; |\n|---|---|---|---|---|---|\n| treated                                                                           | 0  | <!----> | 1  | <!----> | <!----> |\n| age                                                                               | 76 | <!----> | 75 | <!----> | X2=1.25   |\n| ... 18 -29 years                                                                  | 15 | 19.7% | 13 | 17.3% | <!----> |\n| ... 30-39 years                                                                   | 25 | 32.9% | 23 | 30.7% | <!----> |\n| ... 40-49 years                                                                   | 13 | 17.1% | 13 | 17.3% | <!----> |\n| ... 50-59 years                                                                   | 17 | 22.4% | 16 | 21.3% | <!----> |\n| ... 60+ years                                                                     | 6  | 7.9%  | 10 | 13.3% | <!----> |\n| race                                                                              | 76 | <!----> | 75 | <!----> | X2=3.422  |\n| ... Asian                                                                         | 7  | 9.2%  | 9  | 12%   | <!----> |\n| ... Black or African American                                                     | 1  | 1.3%  | 5  | 6.7%  | <!----> |\n| ... Hispanic or Latino                                                            | 3  | 3.9%  | 2  | 2.7%  | <!----> |\n| ... Mixed/Other                                                                   | 6  | 7.9%  | 5  | 6.7%  | <!----> |\n| ... White                                                                         | 59 | 77.6% | 54 | 72%   | <!----> |\n| self_esteem_rate                                                                  | 76 | <!----> | 75 | <!----> | X2=0.476  |\n| ... High                                                                          | 32 | 42.1% | 34 | 45.3% | <!----> |\n| ... Low                                                                           | 22 | 28.9% | 18 | 24%   | <!----> |\n| ... Neutral                                                                       | 22 | 28.9% | 23 | 30.7% | <!----> |\n| shopping_style                                                                    | 76 | <!----> | 75 | <!----> | X2=5.297* |\n| ... shop 2-4 times per month                                                      | 26 | 34.2% | 34 | 45.3% | <!----> |\n| ... shop 5+ times per month                                                       | 20 | 26.3% | 9  | 12%   | <!----> |\n| ... shop less than once per month                                                 | 30 | 39.5% | 32 | 42.7% | <!----> |\n| shop_online                                                                       | 76 | <!----> | 75 | <!----> | X2=0.162  |\n| ... about equal                                                                   | 27 | 35.5% | 29 | 38.7% | <!----> |\n| ... mostly in person                                                              | 13 | 17.1% | 12 | 16%   | <!----> |\n| ... mostly online                                                                 | 36 | 47.4% | 34 | 45.3% | <!----> |\n| shopping_preferences                                                              | 76 | <!----> | 75 | <!----> | X2=0.511  |\n| ... high browsing                                                                 | 47 | 61.8% | 49 | 65.3% | <!----> |\n| ... low browsing                                                                  | 3  | 3.9%  | 4  | 5.3%  | <!----> |\n| ... medium browsing                                                               | 26 | 34.2% | 22 | 29.3% | <!----> |\n| shopping_exp_description                                                          | 76 | <!----> | 75 | <!----> | X2=1.45   |\n| ... sometimes satisfied                                                           | 31 | 40.8% | 25 | 33.3% | <!----> |\n| ... usually frustrated                                                            | 8  | 10.5% | 12 | 16%   | <!----> |\n| ... usually satisfied                                                             | 37 | 48.7% | 38 | 50.7% | <!----> |\n| size_bucket                                                                       | 76 | <!----> | 75 | <!----> | X2=0.072  |\n| ... 0-4                                                                           | 14 | 18.4% | 13 | 17.3% | <!----> |\n| ... 12-16                                                                         | 19 | 25%   | 18 | 24%   | <!----> |\n| ... 18+                                                                           | 10 | 13.2% | 10 | 13.3% | <!----> |\n| ... 6-10                                                                          | 33 | 43.4% | 34 | 45.3% | <!----> |\n| size_bucket_condensed                                                             | 76 | <!----> | 75 | <!----> | X2=0.063  |\n| ... Above Modal Size                                                              | 29 | 38.2% | 28 | 37.3% | <!----> |\n| ... Below Modal Size                                                              | 14 | 18.4% | 13 | 17.3% | <!----> |\n| ... Modal Size                                                                    | 33 | 43.4% | 34 | 45.3% | <!----> |\n| size_bucket_condensed_binary                                                      | 76 | <!----> | 75 | <!----> | X2=0      |\n| ... Above Modal Size                                                              | 29 | 38.2% | 28 | 37.3% | <!----> |\n| ... Modal and Below Modal Size                                                    | 47 | 61.8% | 47 | 62.7% | <!----> |\n| size_purchase_confidence                                                          | 76 | <!----> | 75 | <!----> | X2=1.054  |\n| ... confident                                                                     | 51 | 67.1% | 51 | 68%   | <!----> |\n| ... not confident                                                                 | 13 | 17.1% | 9  | 12%   | <!----> |\n| ... sometimes confident                                                           | 12 | 15.8% | 15 | 20%   | <!----> |\n| model_image_usefulness                                                            | 76 | <!----> | 75 | <!----> | X2=8.847* |\n| ... The model images didn’t make a difference on my selection                     | 14 | 18.4% | 16 | 21.3% | <!----> |\n| ... The model images made it very difficult for me to confidently make a purchase | 1  | 1.3%  | 0  | 0%    | <!----> |\n| ... The model images were helpful for choosing a purchase                         | 44 | 57.9% | 30 | 40%   | <!----> |\n| ... The model images were necessary for choosing a purchase                       | 14 | 18.4% | 18 | 24%   | <!----> |\n| ... The model images weren’t helpful for choosing a purchase                      | 3  | 3.9%  | 11 | 14.7% | <!----> |\n\n",
            "text/html": [
              "<table class=\"dataframe\">\n",
              "<caption>A data.frame: 55 × 6</caption>\n",
              "<thead>\n",
              "\t<tr><th scope=col>Variable</th><th scope=col>N</th><th scope=col>Percent</th><th scope=col>N</th><th scope=col>Percent</th><th scope=col>Test</th></tr>\n",
              "\t<tr><th scope=col>&lt;chr&gt;</th><th scope=col>&lt;chr&gt;</th><th scope=col>&lt;chr&gt;</th><th scope=col>&lt;chr&gt;</th><th scope=col>&lt;chr&gt;</th><th scope=col>&lt;chr&gt;</th></tr>\n",
              "</thead>\n",
              "<tbody>\n",
              "\t<tr><td>treated                                                                          </td><td>0 </td><td>     </td><td>1 </td><td>     </td><td>         </td></tr>\n",
              "\t<tr><td>age                                                                              </td><td>76</td><td>     </td><td>75</td><td>     </td><td>X2=1.25  </td></tr>\n",
              "\t<tr><td>... 18 -29 years                                                                 </td><td>15</td><td>19.7%</td><td>13</td><td>17.3%</td><td>         </td></tr>\n",
              "\t<tr><td>... 30-39 years                                                                  </td><td>25</td><td>32.9%</td><td>23</td><td>30.7%</td><td>         </td></tr>\n",
              "\t<tr><td>... 40-49 years                                                                  </td><td>13</td><td>17.1%</td><td>13</td><td>17.3%</td><td>         </td></tr>\n",
              "\t<tr><td>... 50-59 years                                                                  </td><td>17</td><td>22.4%</td><td>16</td><td>21.3%</td><td>         </td></tr>\n",
              "\t<tr><td>... 60+ years                                                                    </td><td>6 </td><td>7.9% </td><td>10</td><td>13.3%</td><td>         </td></tr>\n",
              "\t<tr><td>race                                                                             </td><td>76</td><td>     </td><td>75</td><td>     </td><td>X2=3.422 </td></tr>\n",
              "\t<tr><td>... Asian                                                                        </td><td>7 </td><td>9.2% </td><td>9 </td><td>12%  </td><td>         </td></tr>\n",
              "\t<tr><td>... Black or African American                                                    </td><td>1 </td><td>1.3% </td><td>5 </td><td>6.7% </td><td>         </td></tr>\n",
              "\t<tr><td>... Hispanic or Latino                                                           </td><td>3 </td><td>3.9% </td><td>2 </td><td>2.7% </td><td>         </td></tr>\n",
              "\t<tr><td>... Mixed/Other                                                                  </td><td>6 </td><td>7.9% </td><td>5 </td><td>6.7% </td><td>         </td></tr>\n",
              "\t<tr><td>... White                                                                        </td><td>59</td><td>77.6%</td><td>54</td><td>72%  </td><td>         </td></tr>\n",
              "\t<tr><td>self_esteem_rate                                                                 </td><td>76</td><td>     </td><td>75</td><td>     </td><td>X2=0.476 </td></tr>\n",
              "\t<tr><td>... High                                                                         </td><td>32</td><td>42.1%</td><td>34</td><td>45.3%</td><td>         </td></tr>\n",
              "\t<tr><td>... Low                                                                          </td><td>22</td><td>28.9%</td><td>18</td><td>24%  </td><td>         </td></tr>\n",
              "\t<tr><td>... Neutral                                                                      </td><td>22</td><td>28.9%</td><td>23</td><td>30.7%</td><td>         </td></tr>\n",
              "\t<tr><td>shopping_style                                                                   </td><td>76</td><td>     </td><td>75</td><td>     </td><td>X2=5.297*</td></tr>\n",
              "\t<tr><td>... shop 2-4 times per month                                                     </td><td>26</td><td>34.2%</td><td>34</td><td>45.3%</td><td>         </td></tr>\n",
              "\t<tr><td>... shop 5+ times per month                                                      </td><td>20</td><td>26.3%</td><td>9 </td><td>12%  </td><td>         </td></tr>\n",
              "\t<tr><td>... shop less than once per month                                                </td><td>30</td><td>39.5%</td><td>32</td><td>42.7%</td><td>         </td></tr>\n",
              "\t<tr><td>shop_online                                                                      </td><td>76</td><td>     </td><td>75</td><td>     </td><td>X2=0.162 </td></tr>\n",
              "\t<tr><td>... about equal                                                                  </td><td>27</td><td>35.5%</td><td>29</td><td>38.7%</td><td>         </td></tr>\n",
              "\t<tr><td>... mostly in person                                                             </td><td>13</td><td>17.1%</td><td>12</td><td>16%  </td><td>         </td></tr>\n",
              "\t<tr><td>... mostly online                                                                </td><td>36</td><td>47.4%</td><td>34</td><td>45.3%</td><td>         </td></tr>\n",
              "\t<tr><td>shopping_preferences                                                             </td><td>76</td><td>     </td><td>75</td><td>     </td><td>X2=0.511 </td></tr>\n",
              "\t<tr><td>... high browsing                                                                </td><td>47</td><td>61.8%</td><td>49</td><td>65.3%</td><td>         </td></tr>\n",
              "\t<tr><td>... low browsing                                                                 </td><td>3 </td><td>3.9% </td><td>4 </td><td>5.3% </td><td>         </td></tr>\n",
              "\t<tr><td>... medium browsing                                                              </td><td>26</td><td>34.2%</td><td>22</td><td>29.3%</td><td>         </td></tr>\n",
              "\t<tr><td>shopping_exp_description                                                         </td><td>76</td><td>     </td><td>75</td><td>     </td><td>X2=1.45  </td></tr>\n",
              "\t<tr><td>... sometimes satisfied                                                          </td><td>31</td><td>40.8%</td><td>25</td><td>33.3%</td><td>         </td></tr>\n",
              "\t<tr><td>... usually frustrated                                                           </td><td>8 </td><td>10.5%</td><td>12</td><td>16%  </td><td>         </td></tr>\n",
              "\t<tr><td>... usually satisfied                                                            </td><td>37</td><td>48.7%</td><td>38</td><td>50.7%</td><td>         </td></tr>\n",
              "\t<tr><td>size_bucket                                                                      </td><td>76</td><td>     </td><td>75</td><td>     </td><td>X2=0.072 </td></tr>\n",
              "\t<tr><td>... 0-4                                                                          </td><td>14</td><td>18.4%</td><td>13</td><td>17.3%</td><td>         </td></tr>\n",
              "\t<tr><td>... 12-16                                                                        </td><td>19</td><td>25%  </td><td>18</td><td>24%  </td><td>         </td></tr>\n",
              "\t<tr><td>... 18+                                                                          </td><td>10</td><td>13.2%</td><td>10</td><td>13.3%</td><td>         </td></tr>\n",
              "\t<tr><td>... 6-10                                                                         </td><td>33</td><td>43.4%</td><td>34</td><td>45.3%</td><td>         </td></tr>\n",
              "\t<tr><td>size_bucket_condensed                                                            </td><td>76</td><td>     </td><td>75</td><td>     </td><td>X2=0.063 </td></tr>\n",
              "\t<tr><td>... Above Modal Size                                                             </td><td>29</td><td>38.2%</td><td>28</td><td>37.3%</td><td>         </td></tr>\n",
              "\t<tr><td>... Below Modal Size                                                             </td><td>14</td><td>18.4%</td><td>13</td><td>17.3%</td><td>         </td></tr>\n",
              "\t<tr><td>... Modal Size                                                                   </td><td>33</td><td>43.4%</td><td>34</td><td>45.3%</td><td>         </td></tr>\n",
              "\t<tr><td>size_bucket_condensed_binary                                                     </td><td>76</td><td>     </td><td>75</td><td>     </td><td>X2=0     </td></tr>\n",
              "\t<tr><td>... Above Modal Size                                                             </td><td>29</td><td>38.2%</td><td>28</td><td>37.3%</td><td>         </td></tr>\n",
              "\t<tr><td>... Modal and Below Modal Size                                                   </td><td>47</td><td>61.8%</td><td>47</td><td>62.7%</td><td>         </td></tr>\n",
              "\t<tr><td>size_purchase_confidence                                                         </td><td>76</td><td>     </td><td>75</td><td>     </td><td>X2=1.054 </td></tr>\n",
              "\t<tr><td>... confident                                                                    </td><td>51</td><td>67.1%</td><td>51</td><td>68%  </td><td>         </td></tr>\n",
              "\t<tr><td>... not confident                                                                </td><td>13</td><td>17.1%</td><td>9 </td><td>12%  </td><td>         </td></tr>\n",
              "\t<tr><td>... sometimes confident                                                          </td><td>12</td><td>15.8%</td><td>15</td><td>20%  </td><td>         </td></tr>\n",
              "\t<tr><td>model_image_usefulness                                                           </td><td>76</td><td>     </td><td>75</td><td>     </td><td>X2=8.847*</td></tr>\n",
              "\t<tr><td>... The model images didn’t make a difference on my selection                    </td><td>14</td><td>18.4%</td><td>16</td><td>21.3%</td><td>         </td></tr>\n",
              "\t<tr><td>... The model images made it very difficult for me to confidently make a purchase</td><td>1 </td><td>1.3% </td><td>0 </td><td>0%   </td><td>         </td></tr>\n",
              "\t<tr><td>... The model images were helpful for choosing a purchase                        </td><td>44</td><td>57.9%</td><td>30</td><td>40%  </td><td>         </td></tr>\n",
              "\t<tr><td>... The model images were necessary for choosing a purchase                      </td><td>14</td><td>18.4%</td><td>18</td><td>24%  </td><td>         </td></tr>\n",
              "\t<tr><td>... The model images weren’t helpful for choosing a purchase                     </td><td>3 </td><td>3.9% </td><td>11</td><td>14.7%</td><td>         </td></tr>\n",
              "</tbody>\n",
              "</table>\n"
            ]
          },
          "metadata": {
            "tags": []
          }
        }
      ]
    },
    {
      "cell_type": "markdown",
      "metadata": {
        "id": "_IUnNFaEtXi7"
      },
      "source": [
        "# Modeling"
      ]
    },
    {
      "cell_type": "code",
      "metadata": {
        "colab": {
          "base_uri": "https://localhost:8080/",
          "height": 153
        },
        "id": "ttgUkIxgeraQ",
        "outputId": "d6ce8121-e6f9-48f1-9fcc-0881095d567c"
      },
      "source": [
        "#######################################\n",
        "# MODEL 1 (BASELINE REGRESSION MODEL) #\n",
        "#######################################\n",
        "\n",
        "basic_model <- clean_dt[,lm(purchase_treat ~ treated)]\n",
        "basic_model$vcovHC_ <- vcovHC(basic_model)\n",
        "coeftest(basic_model, vcov. = basic_model$vcovHC_)"
      ],
      "execution_count": null,
      "outputs": [
        {
          "output_type": "display_data",
          "data": {
            "text/plain": [
              "\n",
              "t test of coefficients:\n",
              "\n",
              "            Estimate Std. Error t value Pr(>|t|)    \n",
              "(Intercept)  2.60066    0.11619 22.3829   <2e-16 ***\n",
              "treated     -0.15932    0.16638 -0.9576   0.3398    \n",
              "---\n",
              "Signif. codes:  0 ‘***’ 0.001 ‘**’ 0.01 ‘*’ 0.05 ‘.’ 0.1 ‘ ’ 1\n"
            ]
          },
          "metadata": {
            "tags": []
          }
        }
      ]
    },
    {
      "cell_type": "code",
      "metadata": {
        "colab": {
          "base_uri": "https://localhost:8080/",
          "height": 255
        },
        "id": "oFDg19iykBgV",
        "outputId": "13b5352f-221a-4844-f883-2e965efce3b6"
      },
      "source": [
        "###########\n",
        "# MODEL 2 #\n",
        "###########\n",
        "\n",
        "model_2 <- clean_dt[,lm(purchase_treat ~ treated + size_bucket + (treated * size_bucket))]\n",
        "model_2$vcovHC_ <- vcovHC(model_2)\n",
        "coeftest(model_2, vcov. = model_2$vcovHC_)"
      ],
      "execution_count": null,
      "outputs": [
        {
          "output_type": "display_data",
          "data": {
            "text/plain": [
              "\n",
              "t test of coefficients:\n",
              "\n",
              "                         Estimate Std. Error t value  Pr(>|t|)    \n",
              "(Intercept)               2.45357    0.26466  9.2708 2.612e-16 ***\n",
              "treated                  -0.39588    0.37361 -1.0596    0.2911    \n",
              "size_bucket12-16          0.11222    0.33571  0.3343    0.7387    \n",
              "size_bucket18+           -0.13357    0.43666 -0.3059    0.7601    \n",
              "size_bucket6-10           0.31461    0.32804  0.9591    0.3391    \n",
              "treated:size_bucket12-16  0.41898    0.48366  0.8663    0.3878    \n",
              "treated:size_bucket18+    0.46088    0.65605  0.7025    0.4835    \n",
              "treated:size_bucket6-10   0.15417    0.45883  0.3360    0.7374    \n",
              "---\n",
              "Signif. codes:  0 ‘***’ 0.001 ‘**’ 0.01 ‘*’ 0.05 ‘.’ 0.1 ‘ ’ 1\n"
            ]
          },
          "metadata": {
            "tags": []
          }
        }
      ]
    },
    {
      "cell_type": "code",
      "metadata": {
        "colab": {
          "base_uri": "https://localhost:8080/",
          "height": 153
        },
        "id": "ReiJBqAsnAwo",
        "outputId": "3d50782a-a660-44a7-b851-36d2c5e0ba4e"
      },
      "source": [
        "##########################################\n",
        "# SECONDARY MODEL (PAGE SUBMIT DURATION) #\n",
        "##########################################\n",
        "\n",
        "#Run a basic regression on secondary outcome time to get started \n",
        "secondary_model <- clean_dt[,lm(page_submit_treat ~ treated)]\n",
        "secondary_model$vcovHC_ <- vcovHC(secondary_model)\n",
        "coeftest(secondary_model, vcov. = secondary_model$vcovHC_)"
      ],
      "execution_count": null,
      "outputs": [
        {
          "output_type": "display_data",
          "data": {
            "text/plain": [
              "\n",
              "t test of coefficients:\n",
              "\n",
              "            Estimate Std. Error t value Pr(>|t|)    \n",
              "(Intercept) 3.713789   0.201435 18.4367   <2e-16 ***\n",
              "treated     0.040911   0.259253  0.1578   0.8748    \n",
              "---\n",
              "Signif. codes:  0 ‘***’ 0.001 ‘**’ 0.01 ‘*’ 0.05 ‘.’ 0.1 ‘ ’ 1\n"
            ]
          },
          "metadata": {
            "tags": []
          }
        }
      ]
    },
    {
      "cell_type": "code",
      "metadata": {
        "colab": {
          "base_uri": "https://localhost:8080/",
          "height": 153
        },
        "id": "P88iHx8CaCT2",
        "outputId": "e6f0b624-0903-43f2-cfb5-786efc4a6ebd"
      },
      "source": [
        "#################################\n",
        "# SECONDARY MODEL (CLICK COUNT) #\n",
        "#################################\n",
        "\n",
        "#Run a basic regression on secondary outcome clicks to get started \n",
        "secondary_model_clicks <- clean_dt[,lm(click_count_mean ~ treated)]\n",
        "secondary_model_clicks$vcovHC_ <- vcovHC(secondary_model_clicks)\n",
        "coeftest(secondary_model_clicks, vcov. = secondary_model_clicks$vcovHC_)"
      ],
      "execution_count": null,
      "outputs": [
        {
          "output_type": "display_data",
          "data": {
            "text/plain": [
              "\n",
              "t test of coefficients:\n",
              "\n",
              "            Estimate Std. Error t value Pr(>|t|)    \n",
              "(Intercept)  1.51711    0.12929 11.7341   <2e-16 ***\n",
              "treated      0.12556    0.18260  0.6876   0.4928    \n",
              "---\n",
              "Signif. codes:  0 ‘***’ 0.001 ‘**’ 0.01 ‘*’ 0.05 ‘.’ 0.1 ‘ ’ 1\n"
            ]
          },
          "metadata": {
            "tags": []
          }
        }
      ]
    },
    {
      "cell_type": "code",
      "metadata": {
        "colab": {
          "base_uri": "https://localhost:8080/",
          "height": 340
        },
        "id": "c6hEcbRcv2zR",
        "outputId": "a6edc415-2301-4270-e1fe-b37df761167a"
      },
      "source": [
        "#################################\n",
        "# SECONDARY MODEL (SELF-ESTEEM) #\n",
        "#################################\n",
        "\n",
        "self_model <- clean_dt[, lm(purchase_treat ~ treated + as.factor(self_esteem_rate) + treated * as.factor(self_esteem_rate))]\n",
        "self_model$vcovHC_ <- vcovHC(self_model)\n",
        "coeftest(self_model, vcov. = self_model$vcovHC_)"
      ],
      "execution_count": null,
      "outputs": [
        {
          "output_type": "display_data",
          "data": {
            "text/plain": [
              "\n",
              "t test of coefficients:\n",
              "\n",
              "                                           Estimate Std. Error t value\n",
              "(Intercept)                                 3.09063    0.18784 16.4536\n",
              "treated                                    -0.42004    0.26357 -1.5936\n",
              "as.factor(self_esteem_rate)Low             -0.69290    0.26879 -2.5778\n",
              "as.factor(self_esteem_rate)Neutral         -0.99972    0.24736 -4.0416\n",
              "treated:as.factor(self_esteem_rate)Low      0.35842    0.40235  0.8908\n",
              "treated:as.factor(self_esteem_rate)Neutral  0.51391    0.37224  1.3806\n",
              "                                            Pr(>|t|)    \n",
              "(Intercept)                                < 2.2e-16 ***\n",
              "treated                                      0.11320    \n",
              "as.factor(self_esteem_rate)Low               0.01094 *  \n",
              "as.factor(self_esteem_rate)Neutral         8.584e-05 ***\n",
              "treated:as.factor(self_esteem_rate)Low       0.37450    \n",
              "treated:as.factor(self_esteem_rate)Neutral   0.16953    \n",
              "---\n",
              "Signif. codes:  0 ‘***’ 0.001 ‘**’ 0.01 ‘*’ 0.05 ‘.’ 0.1 ‘ ’ 1\n"
            ]
          },
          "metadata": {
            "tags": []
          }
        }
      ]
    },
    {
      "cell_type": "code",
      "metadata": {
        "colab": {
          "base_uri": "https://localhost:8080/",
          "height": 340
        },
        "id": "Y-wMsOzq7hUE",
        "outputId": "2d4e2705-87e7-4b7a-a92a-9e427010f2f0"
      },
      "source": [
        "###########################################\n",
        "# SECONDARY MODEL (MODAL SIZES CONDENSED) #\n",
        "###########################################\n",
        "\n",
        "#Regression model with modal sizes \n",
        "\n",
        "condensed_size_model <- clean_dt[, lm(purchase_treat ~ treated + as.factor(size_bucket_condensed) + treated * as.factor(size_bucket_condensed))]\n",
        "condensed_size_model$vcovHC_ <- vcovHC(condensed_size_model)\n",
        "coeftest(condensed_size_model, vcov. = condensed_size_model$vcovHC_)"
      ],
      "execution_count": null,
      "outputs": [
        {
          "output_type": "display_data",
          "data": {
            "text/plain": [
              "\n",
              "t test of coefficients:\n",
              "\n",
              "                                                          Estimate Std. Error\n",
              "(Intercept)                                               2.481034   0.174916\n",
              "treated                                                   0.035037   0.265260\n",
              "as.factor(size_bucket_condensed)Below Modal Size         -0.027463   0.317237\n",
              "as.factor(size_bucket_condensed)Modal Size                0.287147   0.261081\n",
              "treated:as.factor(size_bucket_condensed)Below Modal Size -0.430916   0.458202\n",
              "treated:as.factor(size_bucket_condensed)Modal Size       -0.276748   0.375895\n",
              "                                                         t value Pr(>|t|)    \n",
              "(Intercept)                                              14.1841   <2e-16 ***\n",
              "treated                                                   0.1321   0.8951    \n",
              "as.factor(size_bucket_condensed)Below Modal Size         -0.0866   0.9311    \n",
              "as.factor(size_bucket_condensed)Modal Size                1.0998   0.2732    \n",
              "treated:as.factor(size_bucket_condensed)Below Modal Size -0.9404   0.3486    \n",
              "treated:as.factor(size_bucket_condensed)Modal Size       -0.7362   0.4628    \n",
              "---\n",
              "Signif. codes:  0 ‘***’ 0.001 ‘**’ 0.01 ‘*’ 0.05 ‘.’ 0.1 ‘ ’ 1\n"
            ]
          },
          "metadata": {
            "tags": []
          }
        }
      ]
    },
    {
      "cell_type": "code",
      "metadata": {
        "colab": {
          "base_uri": "https://localhost:8080/",
          "height": 527
        },
        "id": "_AD1cJ-KBVG9",
        "outputId": "8b703a83-a138-4941-fe04-ade41fc6fbae"
      },
      "source": [
        "##################################################\n",
        "# SECONDARY MODEL (MODAL SIZES CONDENSED BINARY) #\n",
        "##################################################\n",
        "\n",
        "#Regression model with modal sizes condensed to a binary variable of modal sizes\n",
        "\n",
        "condensed_size_model_binary <- clean_dt[, lm(purchase_treat ~ treated + as.factor(size_bucket_condensed_binary) + treated * as.factor(size_bucket_condensed_binary))]\n",
        "condensed_size_model_binary$vcovHC_ <- vcovHC(condensed_size_model_binary)\n",
        "coeftest(condensed_size_model_binary, vcov. = condensed_size_model_binary$vcovHC_)"
      ],
      "execution_count": null,
      "outputs": [
        {
          "output_type": "display_data",
          "data": {
            "text/plain": [
              "\n",
              "t test of coefficients:\n",
              "\n",
              "                                                                           Estimate\n",
              "(Intercept)                                                                2.481034\n",
              "treated                                                                    0.035037\n",
              "as.factor(size_bucket_condensed_binary)Modal and Below Modal Size          0.193434\n",
              "treated:as.factor(size_bucket_condensed_binary)Modal and Below Modal Size -0.312697\n",
              "                                                                          Std. Error\n",
              "(Intercept)                                                                 0.174916\n",
              "treated                                                                     0.265260\n",
              "as.factor(size_bucket_condensed_binary)Modal and Below Modal Size           0.234158\n",
              "treated:as.factor(size_bucket_condensed_binary)Modal and Below Modal Size   0.342751\n",
              "                                                                          t value\n",
              "(Intercept)                                                               14.1841\n",
              "treated                                                                    0.1321\n",
              "as.factor(size_bucket_condensed_binary)Modal and Below Modal Size          0.8261\n",
              "treated:as.factor(size_bucket_condensed_binary)Modal and Below Modal Size -0.9123\n",
              "                                                                          Pr(>|t|)\n",
              "(Intercept)                                                                 <2e-16\n",
              "treated                                                                     0.8951\n",
              "as.factor(size_bucket_condensed_binary)Modal and Below Modal Size           0.4101\n",
              "treated:as.factor(size_bucket_condensed_binary)Modal and Below Modal Size   0.3631\n",
              "                                                                             \n",
              "(Intercept)                                                               ***\n",
              "treated                                                                      \n",
              "as.factor(size_bucket_condensed_binary)Modal and Below Modal Size            \n",
              "treated:as.factor(size_bucket_condensed_binary)Modal and Below Modal Size    \n",
              "---\n",
              "Signif. codes:  0 ‘***’ 0.001 ‘**’ 0.01 ‘*’ 0.05 ‘.’ 0.1 ‘ ’ 1\n"
            ]
          },
          "metadata": {
            "tags": []
          }
        }
      ]
    },
    {
      "cell_type": "markdown",
      "metadata": {
        "id": "fvei5uPeAUeA"
      },
      "source": [
        "# Formatted Stargazer Tables"
      ]
    },
    {
      "cell_type": "code",
      "metadata": {
        "colab": {
          "base_uri": "https://localhost:8080/"
        },
        "id": "NCdVdhUDFh5g",
        "outputId": "f461bc6b-94f8-4dfa-edeb-cc2806587f60"
      },
      "source": [
        "#standard errors\n",
        "rse1 <- sqrt(diag(basic_model$vcovHC_))\n",
        "rse2 <- sqrt(diag(model_2$vcovHC_))\n",
        "rse3 <- sqrt(diag(self_model$vcovHC_))\n",
        "rse4 <- sqrt(diag(condensed_size_model$vcovHC_))\n",
        "rse5 <- sqrt(diag(condensed_size_model_binary$vcovHC_))\n",
        "\n",
        "\n",
        "#stargazer table\n",
        "stargazer(basic_model, self_model, type = \"text\", \n",
        "          se = list(rse1,rse3), \n",
        "          model.numbers = FALSE,\n",
        "          add.lines = list(c('SE Type','Robust','Robust')),\n",
        "          column.labels = c(\"Treatment Effect\",\"Self-Esteem\"),\n",
        "          header = FALSE)"
      ],
      "execution_count": null,
      "outputs": [
        {
          "output_type": "stream",
          "text": [
            "\n",
            "=====================================================================================\n",
            "                                                      Dependent variable:            \n",
            "                                           ------------------------------------------\n",
            "                                                         purchase_treat              \n",
            "                                            Treatment Effect        Self-Esteem      \n",
            "-------------------------------------------------------------------------------------\n",
            "treated                                          -0.159                -0.420        \n",
            "                                                 (0.166)              (0.264)        \n",
            "                                                                                     \n",
            "as.factor(self_esteem_rate)Low                                       -0.693***       \n",
            "                                                                      (0.269)        \n",
            "                                                                                     \n",
            "as.factor(self_esteem_rate)Neutral                                   -1.000***       \n",
            "                                                                      (0.247)        \n",
            "                                                                                     \n",
            "treated:as.factor(self_esteem_rate)Low                                 0.358         \n",
            "                                                                      (0.402)        \n",
            "                                                                                     \n",
            "treated:as.factor(self_esteem_rate)Neutral                             0.514         \n",
            "                                                                      (0.372)        \n",
            "                                                                                     \n",
            "Constant                                        2.601***              3.091***       \n",
            "                                                 (0.116)              (0.188)        \n",
            "                                                                                     \n",
            "-------------------------------------------------------------------------------------\n",
            "SE Type                                          Robust                Robust        \n",
            "Observations                                       151                  151          \n",
            "R2                                                0.006                0.121         \n",
            "Adjusted R2                                      -0.0005               0.091         \n",
            "Residual Std. Error                         1.015 (df = 149)      0.968 (df = 145)   \n",
            "F Statistic                                0.930 (df = 1; 149) 4.007*** (df = 5; 145)\n",
            "=====================================================================================\n",
            "Note:                                                     *p<0.1; **p<0.05; ***p<0.01\n"
          ],
          "name": "stdout"
        }
      ]
    },
    {
      "cell_type": "code",
      "metadata": {
        "colab": {
          "base_uri": "https://localhost:8080/"
        },
        "id": "RhmzZBGx9U6_",
        "outputId": "c264b027-632b-4e36-f323-017f070c8c53"
      },
      "source": [
        "\n",
        "#stargazer table\n",
        "stargazer(basic_model, model_2, condensed_size_model, condensed_size_model_binary, type = \"text\", \n",
        "          se = list(rse1,rse2,rse4, rse5), \n",
        "          model.numbers = FALSE,\n",
        "          add.lines = list(c('SE Type','Robust','Robust','Robust', 'Robust', 'Robust')),\n",
        "          column.labels = c(\"Treatment Effect\", \"Size Bucket (S.B.)\",\"Condensed S.B.\", \"Binary S.B.\"),\n",
        "          header = FALSE)"
      ],
      "execution_count": null,
      "outputs": [
        {
          "output_type": "stream",
          "text": [
            "\n",
            "=========================================================================================================================================================\n",
            "                                                                                                        Dependent variable:                              \n",
            "                                                                          -------------------------------------------------------------------------------\n",
            "                                                                                                          purchase_treat                                 \n",
            "                                                                           Treatment Effect   Size Bucket (S.B.)    Condensed S.B.        Binary S.B.    \n",
            "---------------------------------------------------------------------------------------------------------------------------------------------------------\n",
            "treated                                                                         -0.159              -0.396               0.035               0.035       \n",
            "                                                                                (0.166)             (0.374)             (0.265)             (0.265)      \n",
            "                                                                                                                                                         \n",
            "size_bucket12-16                                                                                     0.112                                               \n",
            "                                                                                                    (0.336)                                              \n",
            "                                                                                                                                                         \n",
            "size_bucket18+                                                                                      -0.134                                               \n",
            "                                                                                                    (0.437)                                              \n",
            "                                                                                                                                                         \n",
            "size_bucket6-10                                                                                      0.315                                               \n",
            "                                                                                                    (0.328)                                              \n",
            "                                                                                                                                                         \n",
            "treated:size_bucket12-16                                                                             0.419                                               \n",
            "                                                                                                    (0.484)                                              \n",
            "                                                                                                                                                         \n",
            "treated:size_bucket18+                                                                               0.461                                               \n",
            "                                                                                                    (0.656)                                              \n",
            "                                                                                                                                                         \n",
            "treated:size_bucket6-10                                                                              0.154                                               \n",
            "                                                                                                    (0.459)                                              \n",
            "                                                                                                                                                         \n",
            "as.factor(size_bucket_condensed)Below Modal Size                                                                        -0.027                           \n",
            "                                                                                                                        (0.317)                          \n",
            "                                                                                                                                                         \n",
            "as.factor(size_bucket_condensed)Modal Size                                                                               0.287                           \n",
            "                                                                                                                        (0.261)                          \n",
            "                                                                                                                                                         \n",
            "treated:as.factor(size_bucket_condensed)Below Modal Size                                                                -0.431                           \n",
            "                                                                                                                        (0.458)                          \n",
            "                                                                                                                                                         \n",
            "treated:as.factor(size_bucket_condensed)Modal Size                                                                      -0.277                           \n",
            "                                                                                                                        (0.376)                          \n",
            "                                                                                                                                                         \n",
            "as.factor(size_bucket_condensed_binary)Modal and Below Modal Size                                                                            0.193       \n",
            "                                                                                                                                            (0.234)      \n",
            "                                                                                                                                                         \n",
            "treated:as.factor(size_bucket_condensed_binary)Modal and Below Modal Size                                                                   -0.313       \n",
            "                                                                                                                                            (0.343)      \n",
            "                                                                                                                                                         \n",
            "Constant                                                                       2.601***            2.454***            2.481***            2.481***      \n",
            "                                                                                (0.116)             (0.265)             (0.175)             (0.175)      \n",
            "                                                                                                                                                         \n",
            "---------------------------------------------------------------------------------------------------------------------------------------------------------\n",
            "SE Type                                                                         Robust              Robust              Robust              Robust       \n",
            "Observations                                                                      151                 151                 151                 151        \n",
            "R2                                                                               0.006               0.036               0.032               0.012       \n",
            "Adjusted R2                                                                     -0.0005             -0.011              -0.002              -0.008       \n",
            "Residual Std. Error                                                        1.015 (df = 149)    1.021 (df = 143)    1.016 (df = 145)    1.019 (df = 147)  \n",
            "F Statistic                                                               0.930 (df = 1; 149) 0.765 (df = 7; 143) 0.953 (df = 5; 145) 0.603 (df = 3; 147)\n",
            "=========================================================================================================================================================\n",
            "Note:                                                                                                                         *p<0.1; **p<0.05; ***p<0.01\n"
          ],
          "name": "stdout"
        }
      ]
    },
    {
      "cell_type": "markdown",
      "metadata": {
        "id": "muzrVK9xto5d"
      },
      "source": [
        "# Power Test"
      ]
    },
    {
      "cell_type": "code",
      "metadata": {
        "colab": {
          "base_uri": "https://localhost:8080/",
          "height": 454
        },
        "id": "eo1pmONVtvWF",
        "outputId": "5de500ad-5d4a-493d-9a6b-2c377175da5a"
      },
      "source": [
        "# Power Test Method 1 (via randomiztion inference)\n",
        "\n",
        "purchase_group_ate <- clean_dt[, .(mean_purchase_intent = mean(purchase_treat)), keyby = treated][,diff(mean_purchase_intent)]\n",
        "\n",
        "purchase_intent_ri_distribution <- replicate(10000, clean_dt[ , .(mean_purchase_intent = mean(purchase_treat)), keyby = .(sample(treated))][ ,diff(mean_purchase_intent)])\n",
        "\n",
        "purchase_intent_p_value <- mean(abs(purchase_intent_ri_distribution) > abs(purchase_group_ate))\n",
        "\n",
        "\n",
        "get_p_values <- function(){\n",
        "  p_values <- NA\n",
        "  for (i in 1:100){\n",
        "    purchase_intent_ri_distribution <- replicate(1000, clean_dt[ , .(mean_purchase_intent = mean(purchase_treat)), keyby = .(sample(treated))][ ,diff(mean_purchase_intent)])\n",
        "    purchase_intent_p_value <- mean(abs(purchase_intent_ri_distribution) > abs(purchase_group_ate))\n",
        "    p_values[i] <- purchase_intent_p_value\n",
        "  }\n",
        "  return (p_values)\n",
        "}\n",
        "\n",
        "\n",
        "p_values <- get_p_values()\n",
        "\n",
        "hist(\n",
        "  x = p_values, \n",
        "  col = 'black', \n",
        "  main = 'Histogram of p-values', \n",
        "  xlab = 'p-values')\n",
        "\n",
        "mean(p_values < 0.05)"
      ],
      "execution_count": null,
      "outputs": [
        {
          "output_type": "display_data",
          "data": {
            "text/plain": [
              "[1] 0"
            ],
            "text/latex": "0",
            "text/markdown": "0",
            "text/html": [
              "0"
            ]
          },
          "metadata": {
            "tags": []
          }
        },
        {
          "output_type": "display_data",
          "data": {
            "image/png": "[encoded data removed]",
            "text/plain": [
              "Plot with title “Histogram of p-values”"
            ]
          },
          "metadata": {
            "tags": [],
            "image/png": {
              "width": 420,
              "height": 420
            }
          }
        }
      ]
    },
    {
      "cell_type": "code",
      "metadata": {
        "colab": {
          "base_uri": "https://localhost:8080/",
          "height": 170
        },
        "id": "i6hrOXNFfjYD",
        "outputId": "85910f26-5942-4683-e3ed-258a67d6c203"
      },
      "source": [
        "# Power Test Method 2 (via power t-test) # use in paper\n",
        "\n",
        "purchase_group_ate <- clean_dt[, .(mean_purchase_intent = mean(purchase_treat)), keyby = treated][,diff(mean_purchase_intent)]\n",
        "treated <- clean_dt[treated == 1, .N]\n",
        "control <- clean_dt[treated == 0, .N]\n",
        "\n",
        "pwr.t2n.test(n1 = control, n2= treated, d = purchase_group_ate, sig.level = 0.05, power = NULL)"
      ],
      "execution_count": null,
      "outputs": [
        {
          "output_type": "display_data",
          "data": {
            "text/plain": [
              "\n",
              "     t test power calculation \n",
              "\n",
              "             n1 = 76\n",
              "             n2 = 75\n",
              "              d = 0.1593246\n",
              "      sig.level = 0.05\n",
              "          power = 0.1634094\n",
              "    alternative = two.sided\n"
            ]
          },
          "metadata": {
            "tags": []
          }
        }
      ]
    },
    {
      "cell_type": "markdown",
      "metadata": {
        "id": "Fe1RNVtEx_m7"
      },
      "source": [
        "# Reported Size and Self-Esteem Analysis"
      ]
    },
    {
      "cell_type": "code",
      "metadata": {
        "colab": {
          "base_uri": "https://localhost:8080/",
          "height": 340
        },
        "id": "ND6EqIZEgiNj",
        "outputId": "e615f1aa-a209-4495-f2de-8fcfdc1c7c38"
      },
      "source": [
        "####################\n",
        "# CHI SQUARED TEST #\n",
        "####################\n",
        "\n",
        "#Using a chi squared test to test independence between size and self-esteem. \n",
        "#This is analgous to a correlation test, but since these variables are categorical, a chi-squared test is the most appropriate.\n",
        "\n",
        "chi_sq_results <- chisq.test(table(clean_dt$size_bucket, clean_dt$self_esteem_rate))\n",
        "chi_sq_results$expected #Expected frequencies table -- which resulted in the warning below, since there exist frequencies lower than 5 (threshold for this function).\n",
        "chi_sq_results\n"
      ],
      "execution_count": null,
      "outputs": [
        {
          "output_type": "stream",
          "text": [
            "Warning message in chisq.test(table(clean_dt$size_bucket, clean_dt$self_esteem_rate)):\n",
            "“Chi-squared approximation may be incorrect”\n"
          ],
          "name": "stderr"
        },
        {
          "output_type": "display_data",
          "data": {
            "text/plain": [
              "       \n",
              "        High       Low        Neutral   \n",
              "  0-4   11.1944444  7.2222222  7.5833333\n",
              "  12-16 15.0694444  9.7222222 10.2083333\n",
              "  18+    8.1805556  5.2777778  5.5416667\n",
              "  26     0.4305556  0.2777778  0.2916667\n",
              "  6-10  27.1250000 17.5000000 18.3750000"
            ],
            "text/latex": "A matrix: 5 × 3 of type dbl\n\\begin{tabular}{r|lll}\n  & High & Low & Neutral\\\\\n\\hline\n\t0-4 & 11.1944444 &  7.2222222 &  7.5833333\\\\\n\t12-16 & 15.0694444 &  9.7222222 & 10.2083333\\\\\n\t18+ &  8.1805556 &  5.2777778 &  5.5416667\\\\\n\t26 &  0.4305556 &  0.2777778 &  0.2916667\\\\\n\t6-10 & 27.1250000 & 17.5000000 & 18.3750000\\\\\n\\end{tabular}\n",
            "text/markdown": "\nA matrix: 5 × 3 of type dbl\n\n| <!--/--> | High | Low | Neutral |\n|---|---|---|---|\n| 0-4 | 11.1944444 |  7.2222222 |  7.5833333 |\n| 12-16 | 15.0694444 |  9.7222222 | 10.2083333 |\n| 18+ |  8.1805556 |  5.2777778 |  5.5416667 |\n| 26 |  0.4305556 |  0.2777778 |  0.2916667 |\n| 6-10 | 27.1250000 | 17.5000000 | 18.3750000 |\n\n",
            "text/html": [
              "<table class=\"dataframe\">\n",
              "<caption>A matrix: 5 × 3 of type dbl</caption>\n",
              "<thead>\n",
              "\t<tr><th></th><th scope=col>High</th><th scope=col>Low</th><th scope=col>Neutral</th></tr>\n",
              "</thead>\n",
              "<tbody>\n",
              "\t<tr><th scope=row>0-4</th><td>11.1944444</td><td> 7.2222222</td><td> 7.5833333</td></tr>\n",
              "\t<tr><th scope=row>12-16</th><td>15.0694444</td><td> 9.7222222</td><td>10.2083333</td></tr>\n",
              "\t<tr><th scope=row>18+</th><td> 8.1805556</td><td> 5.2777778</td><td> 5.5416667</td></tr>\n",
              "\t<tr><th scope=row>26</th><td> 0.4305556</td><td> 0.2777778</td><td> 0.2916667</td></tr>\n",
              "\t<tr><th scope=row>6-10</th><td>27.1250000</td><td>17.5000000</td><td>18.3750000</td></tr>\n",
              "</tbody>\n",
              "</table>\n"
            ]
          },
          "metadata": {
            "tags": []
          }
        },
        {
          "output_type": "display_data",
          "data": {
            "text/plain": [
              "\n",
              "\tPearson's Chi-squared test\n",
              "\n",
              "data:  table(clean_dt$size_bucket, clean_dt$self_esteem_rate)\n",
              "X-squared = 13.479, df = 8, p-value = 0.0964\n"
            ]
          },
          "metadata": {
            "tags": []
          }
        }
      ]
    },
    {
      "cell_type": "code",
      "metadata": {
        "colab": {
          "base_uri": "https://localhost:8080/",
          "height": 119
        },
        "id": "HVWSNeWUhnaG",
        "outputId": "e1cd96c5-479c-4397-bfba-2654ca07aa13"
      },
      "source": [
        "######################################\n",
        "# CHI SQUARED FOLLOWUP (FISHER TEST) #\n",
        "######################################\n",
        "\n",
        "#Since the chi squared test results in expected frequencies lower than 5, we recieve the above warning. \n",
        "#As such, we follow up with a fisher test of exact counts to be sure.\n",
        "#Source: https://statsandr.com/blog/chi-square-test-of-independence-in-r/#combination-of-plot-and-statistical-test\n",
        "#Source: https://statsandr.com/blog/fisher-s-exact-test-in-r-independence-test-for-a-small-sample/\n",
        "\n",
        "fisher_test_results <- fisher.test(table(clean_dt$size_bucket, clean_dt$self_esteem_rate))\n",
        "fisher_test_results"
      ],
      "execution_count": null,
      "outputs": [
        {
          "output_type": "display_data",
          "data": {
            "text/plain": [
              "\n",
              "\tFisher's Exact Test for Count Data\n",
              "\n",
              "data:  table(clean_dt$size_bucket, clean_dt$self_esteem_rate)\n",
              "p-value = 0.05516\n",
              "alternative hypothesis: two.sided\n"
            ]
          },
          "metadata": {
            "tags": []
          }
        }
      ]
    },
    {
      "cell_type": "code",
      "metadata": {
        "colab": {
          "base_uri": "https://localhost:8080/",
          "height": 522
        },
        "id": "v-JbQpIq9ga6",
        "outputId": "93c330b4-2208-4742-e2b4-66ea75931932"
      },
      "source": [
        "# Size Bucket and Self Esteem Independence Relationship (Used instead of a correlation test, since these variables are categorial)\n",
        "\n",
        "independence_mosaic <- mosaic(~ size_bucket + self_esteem_rate,\n",
        "       direction = c(\"v\", \"h\"),\n",
        "       data = clean_dt,\n",
        "       shade = TRUE,legend=TRUE,gp = shading_hcl, gp_args = list(interpolate = c(1, 1.6)))\n",
        "\n",
        "independence_mosaic"
      ],
      "execution_count": null,
      "outputs": [
        {
          "output_type": "display_data",
          "data": {
            "text/plain": [
              "                 size_bucket 0-4 12-16 18+ 26 6-10\n",
              "self_esteem_rate                                  \n",
              "High                           6    18   4  1   33\n",
              "Low                           10    10   7  0   13\n",
              "Neutral                       10     7   8  0   17"
            ]
          },
          "metadata": {
            "tags": []
          }
        },
        {
          "output_type": "display_data",
          "data": {
            "image/png": "[encoded data removed]",
            "text/plain": [
              "plot without title"
            ]
          },
          "metadata": {
            "tags": [],
            "image/png": {
              "width": 420,
              "height": 420
            }
          }
        }
      ]
    },
    {
      "cell_type": "code",
      "metadata": {
        "id": "NITiTBlQ1wgV"
      },
      "source": [
        "# Writing the transformed data table to a csv\n",
        "# Delete this after final data table is created from merging the additional 50 mturk responses\n",
        "\n",
        "# fwrite(master_df, \"241_master_data.csv\")"
      ],
      "execution_count": null,
      "outputs": []
    },
    {
      "cell_type": "markdown",
      "metadata": {
        "id": "nXBuIgBZzosH"
      },
      "source": [
        "# Scratch Code"
      ]
    },
    {
      "cell_type": "markdown",
      "metadata": {
        "id": "eVTaYweR4-Nf"
      },
      "source": [
        "Action Items\n",
        "\n",
        "\n",
        "*  Update raw data with additional 50 mechanical turk responses\n",
        "*  Update the abstract to the finalized version from the writing team\n",
        "*  Add any additional descriptive tables and stargazer tables we need\n",
        "    \n",
        "    *Not sure if this note is still relevant: Check for homoskedastic errors - not a priority \n",
        "    One model where outcome is time\n",
        "    Another model with average likelihood scores\n",
        "    Another model with individual outfit ATE  \n",
        "\n",
        "\n",
        "\n",
        "\n",
        "\n",
        "\n"
      ]
    },
    {
      "cell_type": "code",
      "metadata": {
        "id": "HoVGAx8W48T0",
        "colab": {
          "base_uri": "https://localhost:8080/",
          "height": 1000
        },
        "outputId": "b322dadd-b61d-48af-ce21-ec23ae93adf4"
      },
      "source": [
        "clean_dt[,.N, by = size_bucket]\n",
        "clean_dt[,.N, by = size_free_response]\n",
        "race_dt <- covariates[,.(race,treated)]\n",
        "race_dt[,.N,by = .(race,treated)]\n",
        "\n",
        "clean_dt[,.N,by = shopping_montly_amount]\n",
        "#show clean_dt with condensed variables\n",
        "clean_dt[,self_esteem_rate]"
      ],
      "execution_count": null,
      "outputs": [
        {
          "output_type": "display_data",
          "data": {
            "text/plain": [
              "  size_bucket N \n",
              "1 6-10        47\n",
              "2 12-16       19\n",
              "3 0-4         20\n",
              "4 18+         15"
            ],
            "text/latex": "A data.table: 4 × 2\n\\begin{tabular}{ll}\n size\\_bucket & N\\\\\n <chr> & <int>\\\\\n\\hline\n\t 6-10  & 47\\\\\n\t 12-16 & 19\\\\\n\t 0-4   & 20\\\\\n\t 18+   & 15\\\\\n\\end{tabular}\n",
            "text/markdown": "\nA data.table: 4 × 2\n\n| size_bucket &lt;chr&gt; | N &lt;int&gt; |\n|---|---|\n| 6-10  | 47 |\n| 12-16 | 19 |\n| 0-4   | 20 |\n| 18+   | 15 |\n\n",
            "text/html": [
              "<table class=\"dataframe\">\n",
              "<caption>A data.table: 4 × 2</caption>\n",
              "<thead>\n",
              "\t<tr><th scope=col>size_bucket</th><th scope=col>N</th></tr>\n",
              "\t<tr><th scope=col>&lt;chr&gt;</th><th scope=col>&lt;int&gt;</th></tr>\n",
              "</thead>\n",
              "<tbody>\n",
              "\t<tr><td>6-10 </td><td>47</td></tr>\n",
              "\t<tr><td>12-16</td><td>19</td></tr>\n",
              "\t<tr><td>0-4  </td><td>20</td></tr>\n",
              "\t<tr><td>18+  </td><td>15</td></tr>\n",
              "</tbody>\n",
              "</table>\n"
            ]
          },
          "metadata": {
            "tags": []
          }
        },
        {
          "output_type": "display_data",
          "data": {
            "text/plain": [
              "   size_free_response N \n",
              "1  8                  14\n",
              "2  12                  7\n",
              "3  2, 4, 6             1\n",
              "4  6                  14\n",
              "5  4                  12\n",
              "6  s                   1\n",
              "7  5                   1\n",
              "8  2                   7\n",
              "9  10                 18\n",
              "10 16                  6\n",
              "11 24                  2\n",
              "12 3                   1\n",
              "13 14                  1\n",
              "14 40                  1\n",
              "15 28                  1\n",
              "16 18                  5\n",
              "17 7                   1\n",
              "18 20                  1\n",
              "19 0                   1\n",
              "20 1x                  1\n",
              "21 22                  2\n",
              "22 12-14               1\n",
              "23 jeans,2             1\n",
              "24 4, 6                1"
            ],
            "text/latex": "A data.table: 24 × 2\n\\begin{tabular}{ll}\n size\\_free\\_response & N\\\\\n <chr> & <int>\\\\\n\\hline\n\t 8       & 14\\\\\n\t 12      &  7\\\\\n\t 2, 4, 6 &  1\\\\\n\t 6       & 14\\\\\n\t 4       & 12\\\\\n\t s       &  1\\\\\n\t 5       &  1\\\\\n\t 2       &  7\\\\\n\t 10      & 18\\\\\n\t 16      &  6\\\\\n\t 24      &  2\\\\\n\t 3       &  1\\\\\n\t 14      &  1\\\\\n\t 40      &  1\\\\\n\t 28      &  1\\\\\n\t 18      &  5\\\\\n\t 7       &  1\\\\\n\t 20      &  1\\\\\n\t 0       &  1\\\\\n\t 1x      &  1\\\\\n\t 22      &  2\\\\\n\t 12-14   &  1\\\\\n\t jeans,2 &  1\\\\\n\t 4, 6    &  1\\\\\n\\end{tabular}\n",
            "text/markdown": "\nA data.table: 24 × 2\n\n| size_free_response &lt;chr&gt; | N &lt;int&gt; |\n|---|---|\n| 8       | 14 |\n| 12      |  7 |\n| 2, 4, 6 |  1 |\n| 6       | 14 |\n| 4       | 12 |\n| s       |  1 |\n| 5       |  1 |\n| 2       |  7 |\n| 10      | 18 |\n| 16      |  6 |\n| 24      |  2 |\n| 3       |  1 |\n| 14      |  1 |\n| 40      |  1 |\n| 28      |  1 |\n| 18      |  5 |\n| 7       |  1 |\n| 20      |  1 |\n| 0       |  1 |\n| 1x      |  1 |\n| 22      |  2 |\n| 12-14   |  1 |\n| jeans,2 |  1 |\n| 4, 6    |  1 |\n\n",
            "text/html": [
              "<table class=\"dataframe\">\n",
              "<caption>A data.table: 24 × 2</caption>\n",
              "<thead>\n",
              "\t<tr><th scope=col>size_free_response</th><th scope=col>N</th></tr>\n",
              "\t<tr><th scope=col>&lt;chr&gt;</th><th scope=col>&lt;int&gt;</th></tr>\n",
              "</thead>\n",
              "<tbody>\n",
              "\t<tr><td>8      </td><td>14</td></tr>\n",
              "\t<tr><td>12     </td><td> 7</td></tr>\n",
              "\t<tr><td>2, 4, 6</td><td> 1</td></tr>\n",
              "\t<tr><td>6      </td><td>14</td></tr>\n",
              "\t<tr><td>4      </td><td>12</td></tr>\n",
              "\t<tr><td>s      </td><td> 1</td></tr>\n",
              "\t<tr><td>5      </td><td> 1</td></tr>\n",
              "\t<tr><td>2      </td><td> 7</td></tr>\n",
              "\t<tr><td>10     </td><td>18</td></tr>\n",
              "\t<tr><td>16     </td><td> 6</td></tr>\n",
              "\t<tr><td>24     </td><td> 2</td></tr>\n",
              "\t<tr><td>3      </td><td> 1</td></tr>\n",
              "\t<tr><td>14     </td><td> 1</td></tr>\n",
              "\t<tr><td>40     </td><td> 1</td></tr>\n",
              "\t<tr><td>28     </td><td> 1</td></tr>\n",
              "\t<tr><td>18     </td><td> 5</td></tr>\n",
              "\t<tr><td>7      </td><td> 1</td></tr>\n",
              "\t<tr><td>20     </td><td> 1</td></tr>\n",
              "\t<tr><td>0      </td><td> 1</td></tr>\n",
              "\t<tr><td>1x     </td><td> 1</td></tr>\n",
              "\t<tr><td>22     </td><td> 2</td></tr>\n",
              "\t<tr><td>12-14  </td><td> 1</td></tr>\n",
              "\t<tr><td>jeans,2</td><td> 1</td></tr>\n",
              "\t<tr><td>4, 6   </td><td> 1</td></tr>\n",
              "</tbody>\n",
              "</table>\n"
            ]
          },
          "metadata": {
            "tags": []
          }
        },
        {
          "output_type": "error",
          "ename": "ERROR",
          "evalue": "ignored",
          "traceback": [
            "Error in eval(expr, envir, enclos): object 'covariates' not found\nTraceback:\n"
          ]
        }
      ]
    },
    {
      "cell_type": "code",
      "metadata": {
        "id": "w_WD691gsuSI"
      },
      "source": [
        "# Power Test Scratch\n",
        "\n",
        "treated <- clean_dt[treated == 1, .N]\n",
        "control <- clean_dt[treated == 0, .N]\n",
        "smaller_group_n <- ifelse(treated < control, treated, control)\n",
        "larger_group_n <- ifelse(treated < control, control, treated)\n",
        "smaller_group <- ifelse(treated < control, 1, 0)\n",
        "treated_sd <- clean_dt[treated == 1, sd(purchase_treat)]\n",
        "control_sd <- clean_dt[treated == 0, sd(purchase_treat)]\n",
        "sd_ratio <- ifelse(smaller_group == 0, control_sd, treated_sd)\n",
        "smaller_sd <- ifelse(smaller_group == 0, 0, 1)\n",
        "larger_sd <- ifelse(smaller_group == 0, 1, 0)\n",
        "sd <- clean_dt[,sd(purchase_treat)]"
      ],
      "execution_count": null,
      "outputs": []
    },
    {
      "cell_type": "code",
      "metadata": {
        "colab": {
          "base_uri": "https://localhost:8080/",
          "height": 119
        },
        "id": "URWaYbYjw9k7",
        "outputId": "00f8edb6-2555-428d-fb98-835d40cf8abb"
      },
      "source": [
        "table(clean_dt$size_bucket, clean_dt$self_esteem_rate)\n"
      ],
      "execution_count": null,
      "outputs": [
        {
          "output_type": "display_data",
          "data": {
            "text/plain": [
              "       \n",
              "        High Low Neutral\n",
              "  0-4      4   6      10\n",
              "  12-16   11   7       1\n",
              "  18+      5   4       6\n",
              "  6-10    23  10      14"
            ]
          },
          "metadata": {
            "tags": []
          }
        }
      ]
    },
    {
      "cell_type": "code",
      "metadata": {
        "id": "AF96ekLmw-aC"
      },
      "source": [],
      "execution_count": null,
      "outputs": []
    }
  ]
}